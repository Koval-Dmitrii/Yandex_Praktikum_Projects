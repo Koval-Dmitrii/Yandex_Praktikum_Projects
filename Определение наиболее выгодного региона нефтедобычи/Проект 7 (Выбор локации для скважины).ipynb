{
 "cells": [
  {
   "cell_type": "markdown",
   "metadata": {},
   "source": [
    "Привет! меня зовут Люман Аблаев. Сегодня я проверю твой проект.\n",
    "<br> Дальнейшее общение будет происходить на \"ты\" если это не вызывает никаких проблем.\n",
    "<br> Желательно реагировать на каждый мой комментарий ('исправил', 'не понятно как исправить ошибку', ...)\n",
    "<br> Пожалуйста, не удаляй комментарии ревьюера, так как они повышают качество повторного ревью.\n",
    "\n",
    "Комментарии будут в <font color='green'>зеленой</font>, <font color='blue'>синей</font> или <font color='red'>красной</font> рамках:\n",
    "\n",
    "\n",
    "<div class=\"alert alert-block alert-success\">\n",
    "<b>Успех:</b> Если все сделано отлично\n",
    "</div>\n",
    "\n",
    "<div class=\"alert alert-block alert-info\">\n",
    "<b>Совет: </b> Если можно немного улучшить\n",
    "</div>\n",
    "\n",
    "<div class=\"alert alert-block alert-danger\">\n",
    "<b>Ошибка:</b> Если требуются исправления. Работа не может быть принята с красными комментариями.\n",
    "</div>\n",
    "\n",
    "-------------------\n",
    "\n",
    "Будет очень хорошо, если ты будешь помечать свои действия следующим образом:\n",
    "<div class=\"alert alert-block alert-warning\">\n",
    "<b>Комментарий студента:</b> ..\n",
    "</div>\n",
    "<div class=\"alert alert-block alert-warning\">\n",
    "<b>Изменения:</b> Были внесены следующие изменения ...\n",
    "</div>\n",
    "\n",
    "<font color='orange' style='font-size:24px; font-weight:bold'>Общее впечатление</font>\n",
    "* Спасибо за  качественную работу, мне она понравилась!\n",
    "- Я оставил некоторые советы надеюсь они будут полезными или интересными.\n",
    "- Техника бутстрап применилась корректно, было проведено тщательное исследование и выбран правильный регион!\n",
    "- Отправляю проект назад, чтобы у тебя была возможность задать вопросы, если они у тебя есть. Если их нет, то можешь просто отправить проект еще раз и я его зачту\n",
    "\n"
   ]
  },
  {
   "cell_type": "markdown",
   "metadata": {},
   "source": [
    "# Выбор локации для скважины"
   ]
  },
  {
   "cell_type": "markdown",
   "metadata": {},
   "source": [
    "Допустим, вы работаете в добывающей компании «ГлавРосГосНефть». Нужно решить, где бурить новую скважину.\n",
    "\n",
    "Вам предоставлены пробы нефти в трёх регионах: в каждом 10 000 месторождений, где измерили качество нефти и объём её запасов. Постройте модель машинного обучения, которая поможет определить регион, где добыча принесёт наибольшую прибыль. Проанализируйте возможную прибыль и риски техникой *Bootstrap.*\n",
    "\n",
    "Шаги для выбора локации:\n",
    "\n",
    "- В избранном регионе ищут месторождения, для каждого определяют значения признаков;\n",
    "- Строят модель и оценивают объём запасов;\n",
    "- Выбирают месторождения с самым высокими оценками значений. Количество месторождений зависит от бюджета компании и стоимости разработки одной скважины;\n",
    "- Прибыль равна суммарной прибыли отобранных месторождений."
   ]
  },
  {
   "cell_type": "markdown",
   "metadata": {},
   "source": [
    "## Загрузка и подготовка данных"
   ]
  },
  {
   "cell_type": "markdown",
   "metadata": {},
   "source": [
    "###  Импортируем необходимые библиотеки и загружаем датасеты"
   ]
  },
  {
   "cell_type": "code",
   "execution_count": 1,
   "metadata": {},
   "outputs": [
    {
     "ename": "ModuleNotFoundError",
     "evalue": "No module named 'pandas_profiling'",
     "output_type": "error",
     "traceback": [
      "\u001b[0;31m---------------------------------------------------------------------------\u001b[0m",
      "\u001b[0;31mModuleNotFoundError\u001b[0m                       Traceback (most recent call last)",
      "\u001b[0;32m/tmp/ipykernel_385/3795864547.py\u001b[0m in \u001b[0;36m<module>\u001b[0;34m\u001b[0m\n\u001b[1;32m      2\u001b[0m \u001b[0;32mimport\u001b[0m \u001b[0mnumpy\u001b[0m \u001b[0;32mas\u001b[0m \u001b[0mnp\u001b[0m\u001b[0;34m\u001b[0m\u001b[0;34m\u001b[0m\u001b[0m\n\u001b[1;32m      3\u001b[0m \u001b[0;32mimport\u001b[0m \u001b[0mpandas\u001b[0m \u001b[0;32mas\u001b[0m \u001b[0mpd\u001b[0m\u001b[0;34m\u001b[0m\u001b[0;34m\u001b[0m\u001b[0m\n\u001b[0;32m----> 4\u001b[0;31m \u001b[0;32mimport\u001b[0m \u001b[0mpandas_profiling\u001b[0m\u001b[0;34m\u001b[0m\u001b[0;34m\u001b[0m\u001b[0m\n\u001b[0m\u001b[1;32m      5\u001b[0m \u001b[0;32mimport\u001b[0m \u001b[0mseaborn\u001b[0m \u001b[0;32mas\u001b[0m \u001b[0msns\u001b[0m\u001b[0;34m\u001b[0m\u001b[0;34m\u001b[0m\u001b[0m\n\u001b[1;32m      6\u001b[0m \u001b[0;32mfrom\u001b[0m \u001b[0mtqdm\u001b[0m\u001b[0;34m.\u001b[0m\u001b[0mnotebook\u001b[0m \u001b[0;32mimport\u001b[0m \u001b[0mtqdm\u001b[0m\u001b[0;34m\u001b[0m\u001b[0;34m\u001b[0m\u001b[0m\n",
      "\u001b[0;31mModuleNotFoundError\u001b[0m: No module named 'pandas_profiling'"
     ]
    }
   ],
   "source": [
    "import math\n",
    "import numpy as np\n",
    "import pandas as pd\n",
    "import pandas_profiling\n",
    "import seaborn as sns\n",
    "from tqdm.notebook import tqdm\n",
    "from scipy import stats as st\n",
    "import matplotlib.pyplot as plt\n",
    "from numpy.random import RandomState\n",
    "from sklearn.model_selection import train_test_split\n",
    "from sklearn.preprocessing import StandardScaler\n",
    "from sklearn.linear_model import LinearRegression\n",
    "from sklearn.metrics import mean_squared_error, r2_score, mean_absolute_error\n",
    "from sklearn.model_selection import GridSearchCV\n",
    "import warnings\n",
    "warnings.filterwarnings(\"ignore\")"
   ]
  },
  {
   "cell_type": "markdown",
   "metadata": {},
   "source": [
    "<div class=\"alert alert-block alert-success\">\n",
    "<b>Успех:</b> Импорты  на месте\n",
    "</div>\n"
   ]
  },
  {
   "cell_type": "code",
   "execution_count": null,
   "metadata": {},
   "outputs": [],
   "source": [
    "try:\n",
    "    data_0 = pd.read_csv('/datasets/geo_data_0.csv')\n",
    "    data_1 = pd.read_csv('/datasets/geo_data_1.csv')\n",
    "    data_2 = pd.read_csv('/datasets/geo_data_2.csv')\n",
    "except:\n",
    "    data_0 = pd.read_csv('https://code.s3.yandex.net/datasets/geo_data_0.csv')\n",
    "    data_1 = pd.read_csv('https://code.s3.yandex.net/datasets/geo_data_1.csv')\n",
    "    data_2 = pd.read_csv('https://code.s3.yandex.net/datasets/geo_data_2.csv')"
   ]
  },
  {
   "cell_type": "markdown",
   "metadata": {},
   "source": [
    "### Посмотрим 3 датасет"
   ]
  },
  {
   "cell_type": "code",
   "execution_count": null,
   "metadata": {},
   "outputs": [],
   "source": [
    "data_0.head(20)"
   ]
  },
  {
   "cell_type": "code",
   "execution_count": null,
   "metadata": {},
   "outputs": [],
   "source": [
    "data_0.info()"
   ]
  },
  {
   "cell_type": "code",
   "execution_count": null,
   "metadata": {},
   "outputs": [],
   "source": [
    "data_0.describe()"
   ]
  },
  {
   "cell_type": "markdown",
   "metadata": {},
   "source": [
    "### Посмотрим 2 датасет"
   ]
  },
  {
   "cell_type": "code",
   "execution_count": null,
   "metadata": {},
   "outputs": [],
   "source": [
    "data_1.head(20)"
   ]
  },
  {
   "cell_type": "code",
   "execution_count": null,
   "metadata": {},
   "outputs": [],
   "source": [
    "data_1.info()"
   ]
  },
  {
   "cell_type": "code",
   "execution_count": null,
   "metadata": {},
   "outputs": [],
   "source": [
    "data_1.describe()"
   ]
  },
  {
   "cell_type": "markdown",
   "metadata": {},
   "source": [
    "### Посмотрим 3 датасет"
   ]
  },
  {
   "cell_type": "code",
   "execution_count": null,
   "metadata": {},
   "outputs": [],
   "source": [
    "data_2.head(20)"
   ]
  },
  {
   "cell_type": "code",
   "execution_count": null,
   "metadata": {},
   "outputs": [],
   "source": [
    "data_2.info()"
   ]
  },
  {
   "cell_type": "code",
   "execution_count": null,
   "metadata": {},
   "outputs": [],
   "source": [
    "data_2.describe()"
   ]
  },
  {
   "cell_type": "markdown",
   "metadata": {},
   "source": [
    "### Построим графики зависимостей значений в таблице"
   ]
  },
  {
   "cell_type": "code",
   "execution_count": null,
   "metadata": {},
   "outputs": [],
   "source": [
    "plt.title('Графики распределения запасов сырья в регионах')\n",
    "ax=data_0['product'].plot(kind='hist',figsize=(12,7),grid=True, legend=True, alpha=0.7, histtype='step', linewidth=5, label='1 регион')\n",
    "ax1=data_1['product'].plot(kind='hist',figsize=(12,7),grid=True, legend=True, alpha=0.7,histtype='step', linewidth=5, label='2 регион', ax=ax)\n",
    "data_2['product'].plot(kind='hist',figsize=(12,7),grid=True, legend=True, alpha=0.7,histtype='step', linewidth=5, label='3 регион', ax=ax1)\n",
    "plt.xlabel('Распределение данных по запасам сырья в регионах')\n",
    "plt.ylabel('Запасы сырья, тыс.баррелей')\n",
    "plt.show()"
   ]
  },
  {
   "cell_type": "markdown",
   "metadata": {},
   "source": [
    "### Ещё раз посмотрим на общую информацию о каждом датасете"
   ]
  },
  {
   "cell_type": "code",
   "execution_count": null,
   "metadata": {
    "scrolled": true
   },
   "outputs": [],
   "source": [
    "data_0.profile_report()"
   ]
  },
  {
   "cell_type": "code",
   "execution_count": null,
   "metadata": {
    "scrolled": true
   },
   "outputs": [],
   "source": [
    "data_1.profile_report()"
   ]
  },
  {
   "cell_type": "code",
   "execution_count": null,
   "metadata": {
    "scrolled": true
   },
   "outputs": [],
   "source": [
    "data_2.profile_report()"
   ]
  },
  {
   "cell_type": "markdown",
   "metadata": {},
   "source": [
    "**Вывод** <br>\n",
    "Данные успешно загружены и не требуют дополнительной предобработки. На графике отчётливо показана разительно отличающаяся кривая распределения запасов сырья по скважинам 2 региона. Так же заметна довольно высокая корреляция между признаком f2 и целевым признаком product."
   ]
  },
  {
   "cell_type": "markdown",
   "metadata": {},
   "source": [
    "<div class=\"alert alert-block alert-success\">\n",
    "<b>Успех:</b> Данные осмотрены, но можно было бы еще как минимум изучить корреляции, так как мы планируем использовать линейные модели, а для них это важно. \n",
    "</div>\n",
    "\n",
    "\n",
    "<div class=\"alert alert-block alert-info\">\n",
    "<b>Совет:</b>  Советую обратить внимание на библиотеки sweetviz и pandas_profiling помогут в проведении более тщательного EDA анализа. Исследовательский анализ можно делать и с помощью ручного вызова функций дефолтных библиотек. Данные библиотеки хороши для максимизации комфорта презентации результатов анализа бизнес-пользователям.  \n",
    "\n",
    "Очень просты в использоовании, на вход кладется датафрейм: pandas_profiling.ProfileReport(df) \n",
    "</div>\n"
   ]
  },
  {
   "cell_type": "markdown",
   "metadata": {},
   "source": [
    "<div class=\"alert alert-block alert-warning\">\n",
    "<b>Изменения:</b> Не стал менять прошлый вариант, но добавил ещё один раздел в котором использовал pandas_profiling. Так же немного изменил вывод (добавил про корреляцию)\n",
    "</div>"
   ]
  },
  {
   "cell_type": "markdown",
   "metadata": {},
   "source": [
    "\n",
    "<div class=\"alert alert-block alert-success\">\n",
    "    \n",
    "<b>Успех[2]:</b> Советую прфоайлеров во время обучения не злоупотреблять, чтобы руки не забыл как делать EDA анализ)\n",
    "</div>"
   ]
  },
  {
   "cell_type": "markdown",
   "metadata": {},
   "source": [
    "## Обучение и проверка модели"
   ]
  },
  {
   "cell_type": "markdown",
   "metadata": {},
   "source": [
    "### Разделин данные на обучающую и валидационную выборки в соотношении 75:25"
   ]
  },
  {
   "cell_type": "code",
   "execution_count": null,
   "metadata": {},
   "outputs": [],
   "source": [
    "data_0_train, data_0_valid = train_test_split(data_0, test_size=0.25, random_state=12345)\n",
    "data_1_train, data_1_valid = train_test_split(data_1, test_size=0.25, random_state=12345)\n",
    "data_2_train, data_2_valid = train_test_split(data_2, test_size=0.25, random_state=12345)"
   ]
  },
  {
   "cell_type": "code",
   "execution_count": null,
   "metadata": {},
   "outputs": [],
   "source": [
    "features_train_0 = data_0.drop(['product', 'id'], axis=1)\n",
    "target_train_0 = data_0['product']\n",
    "\n",
    "features_valid_0 = data_0.drop(['product', 'id'], axis=1)\n",
    "target_valid_0 = data_0['product']"
   ]
  },
  {
   "cell_type": "code",
   "execution_count": null,
   "metadata": {},
   "outputs": [],
   "source": [
    "features_train_1 = data_1.drop(['product', 'id'], axis=1)\n",
    "target_train_1 = data_1['product']\n",
    "\n",
    "features_valid_1 = data_1.drop(['product', 'id'], axis=1)\n",
    "target_valid_1 = data_1['product']"
   ]
  },
  {
   "cell_type": "code",
   "execution_count": null,
   "metadata": {},
   "outputs": [],
   "source": [
    "features_train_2 = data_2.drop(['product', 'id'], axis=1)\n",
    "target_train_2 = data_2['product']\n",
    "\n",
    "features_valid_2 = data_2.drop(['product', 'id'], axis=1)\n",
    "target_valid_2 = data_2['product']"
   ]
  },
  {
   "cell_type": "markdown",
   "metadata": {},
   "source": [
    "### Обучим модель и сделаем предсказания на валидационной выборке"
   ]
  },
  {
   "cell_type": "code",
   "execution_count": null,
   "metadata": {},
   "outputs": [],
   "source": [
    "model_0 = LinearRegression()\n",
    "model_0.fit(features_train_0, target_train_0)\n",
    "prediction_0 = model_0.predict(features_valid_0)"
   ]
  },
  {
   "cell_type": "code",
   "execution_count": null,
   "metadata": {},
   "outputs": [],
   "source": [
    "model_1 = LinearRegression()\n",
    "model_1.fit(features_train_1, target_train_1)\n",
    "prediction_1 = model_1.predict(features_valid_1)"
   ]
  },
  {
   "cell_type": "code",
   "execution_count": null,
   "metadata": {},
   "outputs": [],
   "source": [
    "model_2 = LinearRegression()\n",
    "model_2.fit(features_train_2, target_train_2)\n",
    "prediction_2 = model_2.predict(features_valid_2)"
   ]
  },
  {
   "cell_type": "markdown",
   "metadata": {},
   "source": [
    "### Найдём средний запас предсказанного сырья и RMSE модели"
   ]
  },
  {
   "cell_type": "code",
   "execution_count": null,
   "metadata": {},
   "outputs": [],
   "source": [
    "comparison_tabl = pd.DataFrame(index=['Cредний запас предсказанного сырья','RMSE'], columns=['1 регион','2 регион','3 регион'])\n",
    "comparison_tabl['1 регион'] = prediction_0.mean(), mean_squared_error(target_valid_0, prediction_0)**0.5\n",
    "comparison_tabl['2 регион'] = prediction_1.mean(), mean_squared_error(target_valid_1, prediction_1)**0.5\n",
    "comparison_tabl['3 регион'] = prediction_2.mean(), mean_squared_error(target_valid_2, prediction_2)**0.5\n",
    "comparison_tabl"
   ]
  },
  {
   "cell_type": "markdown",
   "metadata": {},
   "source": [
    "**Вывод** <br>\n",
    "Модели обучены и проверены на качество предсказания метрикой RMSE. Исходя из полученных данный в нашей сводной таблицы, можно заметить, что величина RMSE во втором регионе сильно отличается от двух других, это связано с тем, что модель обучилась на практически равных по величине данных, и величина ошибки этой модели не может сильно варьирываться."
   ]
  },
  {
   "cell_type": "markdown",
   "metadata": {},
   "source": [
    "<div class=\"alert alert-block alert-success\">\n",
    "<b>Успех:</b> Шаг проделан хорошо, все метрики посчитаны корректно\n",
    "</div> \n",
    "\n",
    "\n",
    "<div class=\"alert alert-block alert-info\">\n",
    "<b>Совет </b>  Можно было бы использовать циклы/функции и избежать дублирования кода.\n",
    "</div>"
   ]
  },
  {
   "cell_type": "markdown",
   "metadata": {},
   "source": [
    "## Подготовка к расчёту прибыли"
   ]
  },
  {
   "cell_type": "markdown",
   "metadata": {},
   "source": [
    "### Все ключевые значения для расчётов сохраним в отдельных переменных"
   ]
  },
  {
   "cell_type": "markdown",
   "metadata": {},
   "source": [
    "При разведке региона исследуюем 500 точек, из которых с помощью машинного обучения выберем 200 лучших для разработки.\n",
    "Бюджет на разработку скважин в регионе — 10 млрд рублей.\n",
    "При нынешних ценах один баррель сырья приносит 450 рублей дохода. Доход с каждой единицы продукта составляет 450 тыс.\n",
    "рублей, поскольку объём указан в тысячах баррелей.\n",
    "После оценки рисков оставим лишь те регионы, в которых вероятность убытков меньше 2.5%. Среди них выберем регион с наибольшей средней прибылью"
   ]
  },
  {
   "cell_type": "code",
   "execution_count": null,
   "metadata": {},
   "outputs": [],
   "source": [
    "# Количество скважин\n",
    "COUNT_OF_WELLS = 200\n",
    "\n",
    "# Бюджет\n",
    "BUDGET = 10_000_000_000\n",
    "\n",
    "# Цена одной скважины\n",
    "PRICE_ONE_WELL = BUDGET / COUNT_OF_WELLS\n",
    "#50000000\n",
    "\n",
    "# Доход с одной единицы продукта\n",
    "PRICE_ONE_THOUSAND_BARRELS = 450_000"
   ]
  },
  {
   "cell_type": "markdown",
   "metadata": {},
   "source": [
    "<div class=\"alert alert-block alert-info\">\n",
    "    \n",
    "<b>Совет:</b> Константы принято записывать в ВЕРХНЕМ РЕГИСТРЕ =) Читем здесь https://pythonworld.ru/osnovy/pep-8-rukovodstvo-po-napisaniyu-koda-na-python.html#section-29\n",
    "    \n",
    "\n",
    "</div> "
   ]
  },
  {
   "cell_type": "markdown",
   "metadata": {},
   "source": [
    "<div class=\"alert alert-block alert-warning\">\n",
    "<b>Изменения:</b> Изменил регистр\n",
    "</div>"
   ]
  },
  {
   "cell_type": "markdown",
   "metadata": {},
   "source": [
    "\n",
    "<div class=\"alert alert-block alert-success\">\n",
    "    \n",
    "<b>Успех[2]:</b> Есть\n",
    "</div>"
   ]
  },
  {
   "cell_type": "code",
   "execution_count": null,
   "metadata": {},
   "outputs": [],
   "source": [
    "product_mean_0 = data_0['product'].mean()\n",
    "product_mean_1 = data_1['product'].mean()\n",
    "product_mean_2 = data_2['product'].mean()\n",
    "\n",
    "print('Cредний запас сырья в 1 регионе: %.2f млн.баррелей'%product_mean_0)\n",
    "print('Cредний запас сырья в 2 регионе: %.2f млн.баррелей'%product_mean_1)\n",
    "print('Cредний запас сырья в 3 регионе: %.2f млн.баррелей'%product_mean_2)"
   ]
  },
  {
   "cell_type": "markdown",
   "metadata": {},
   "source": [
    "### Рассчитаем достаточный объём сырья для безубыточной разработки новой скважины"
   ]
  },
  {
   "cell_type": "code",
   "execution_count": null,
   "metadata": {},
   "outputs": [],
   "source": [
    "v_prod = PRICE_ONE_WELL / PRICE_ONE_THOUSAND_BARRELS\n",
    "print('Объём каждой скважины для безубыточной разработки должен составлять не менее: %.2f'%v_prod,'тыс.баррелей')"
   ]
  },
  {
   "cell_type": "markdown",
   "metadata": {},
   "source": [
    "**Вывод** <br>\n",
    "Исходя из полученных данных видно, что среднее количество запасов сырья по регионам недостаточное даже для окупаемости разработки, поэтому требуется выбрать скважины с максимальными запасами."
   ]
  },
  {
   "cell_type": "markdown",
   "metadata": {},
   "source": [
    "<div class=\"alert alert-block alert-success\">\n",
    "<b>Успех:</b> Значение для безубыточной разработки посчитано верно, с выводом согласен  \n",
    "</div>"
   ]
  },
  {
   "cell_type": "markdown",
   "metadata": {},
   "source": [
    "## Функция для расчёта прибыли по выбранным скважинам и предсказаниям модели"
   ]
  },
  {
   "cell_type": "markdown",
   "metadata": {},
   "source": [
    "### Напишем функцию "
   ]
  },
  {
   "cell_type": "code",
   "execution_count": null,
   "metadata": {},
   "outputs": [],
   "source": [
    "def profit(prediction, target):\n",
    "    probs_sorted = pd.Series(prediction, index=target.index).sort_values(ascending=False)\n",
    "    max_pred = probs_sorted[:200].sum()\n",
    "    profit_pred=(max_pred * PRICE_ONE_THOUSAND_BARRELS) - BUDGET\n",
    "    print('Суммарный запас сырья в 200 лучших скважинах составит: %.2f тыс.баррелей'%max_pred)\n",
    "    print('Прибыль для полученного объёма сырья составит %.2f млн.рублей'%(profit_pred/1000000))"
   ]
  },
  {
   "cell_type": "markdown",
   "metadata": {},
   "source": [
    "<div class=\"alert alert-block alert-success\">\n",
    "<b>Успех:</b> Ф-ция для подсчета прибыли определена верно\n",
    "</div>\n"
   ]
  },
  {
   "cell_type": "markdown",
   "metadata": {},
   "source": [
    "### Прибыль для первого региона"
   ]
  },
  {
   "cell_type": "code",
   "execution_count": null,
   "metadata": {},
   "outputs": [],
   "source": [
    "profit(prediction_0, target_valid_0)"
   ]
  },
  {
   "cell_type": "markdown",
   "metadata": {},
   "source": [
    "### Прибыль для второго региона"
   ]
  },
  {
   "cell_type": "code",
   "execution_count": null,
   "metadata": {},
   "outputs": [],
   "source": [
    "profit(prediction_1, target_valid_1)"
   ]
  },
  {
   "cell_type": "markdown",
   "metadata": {},
   "source": [
    "### Прибыль для третьего региона"
   ]
  },
  {
   "cell_type": "code",
   "execution_count": null,
   "metadata": {},
   "outputs": [],
   "source": [
    "profit(prediction_2, target_valid_2)"
   ]
  },
  {
   "cell_type": "markdown",
   "metadata": {},
   "source": [
    "**Вывод** <br>\n",
    "Отлично, все три региона потенциально прибыльные. Осталось выяснить, какой регион наиболее выгодный с точки зрения окупаемости вложений и рисков убытка."
   ]
  },
  {
   "cell_type": "markdown",
   "metadata": {},
   "source": [
    "## Посчитаем риски и прибыль для каждого региона"
   ]
  },
  {
   "cell_type": "code",
   "execution_count": null,
   "metadata": {},
   "outputs": [],
   "source": [
    "def profit_1(prediction, target, count):\n",
    "    probs_sorted = pd.Series(prediction).sort_values(ascending=False)\n",
    "    selected_points = target[probs_sorted.index][:count]\n",
    "    product = selected_points.sum()\n",
    "    revenue = product * PRICE_ONE_THOUSAND_BARRELS\n",
    "    return revenue - BUDGET"
   ]
  },
  {
   "cell_type": "markdown",
   "metadata": {},
   "source": [
    "<div class=\"alert alert-block alert-info\">\n",
    "<b>Совет:</b> З\n",
    "</div>\n"
   ]
  },
  {
   "cell_type": "markdown",
   "metadata": {},
   "source": [
    "<div class=\"alert alert-block alert-warning\">\n",
    "<b>Комментарий студента:</b> Тут сове\n",
    "</div>"
   ]
  },
  {
   "cell_type": "markdown",
   "metadata": {},
   "source": [
    "<div class=\"alert alert-block alert-info\">\n",
    "<b>Совет[2]:</b> Почему-то комментарии затерлись. Я хотел написать, зачем дублировать функции прибыли?)\n",
    "</div>\n"
   ]
  },
  {
   "cell_type": "code",
   "execution_count": null,
   "metadata": {},
   "outputs": [],
   "source": [
    "def bootstap(target, prediction):\n",
    "    values = []\n",
    "    count=0\n",
    "    state = np.random.RandomState(12345)\n",
    "    predict_e = pd.Series(prediction, index=target.index)\n",
    "    \n",
    "    for i in tqdm(range(1000)):\n",
    "        target_subsample = target.sample(n=500,replace=True, random_state=state)\n",
    "  \n",
    "        probs_subsample = predict_e[target_subsample.index]\n",
    "        values.append(profit_1(probs_subsample, target_subsample, 200))  \n",
    "    for i in values:\n",
    "        if i < 0:\n",
    "            count +=1\n",
    "            \n",
    "    values = pd.Series(values)\n",
    "    mean = values.mean()\n",
    "    confidence_interval = st.t.interval(0.95, len(values)-1, values.mean(), values.sem())\n",
    "    \n",
    "    low_95 = values.quantile(0.025)\n",
    "    high_95 = values.quantile(0.975)\n",
    "    \n",
    "    print(\"Средняя прибыль: {:.2f} млн.руб\".format(mean/1000000))\n",
    "    print('С вероятностью 95% прибыль в данном регионе будет составлять от: {:.2f} млн.руб до: {:.2f} млн.руб'.format((low_95/1000),(high_95/1000)))\n",
    "    print(\"95%-ый доверительный интервал: от {:.2f} млн.руб до {:.2f} млн.руб\". format((confidence_interval[0]/1000),(confidence_interval[1]/1000)))\n",
    "    print ('Процент вероятности убытка в данном регионе составит {:.1%}'.format(count/1000))"
   ]
  },
  {
   "cell_type": "markdown",
   "metadata": {},
   "source": [
    "<div class=\"alert alert-block alert-success\">\n",
    "<b>Успех:</b> С бутстрапом тоже все в порядке, метрики считаются верным образом!  \n",
    "</div>\n",
    "\n",
    "<div class=\"alert alert-block alert-info\">\n",
    "<b>Совет: </b>\n",
    "    \n",
    "Риски можно лаконично считать в 1 строку: `(values < 0).mean() * 100`\n",
    "</div>                                                              \n"
   ]
  },
  {
   "cell_type": "code",
   "execution_count": null,
   "metadata": {},
   "outputs": [],
   "source": [
    "bootstap(target_valid_0, prediction_0)"
   ]
  },
  {
   "cell_type": "code",
   "execution_count": null,
   "metadata": {},
   "outputs": [],
   "source": [
    "bootstap(target_valid_1, prediction_1)"
   ]
  },
  {
   "cell_type": "code",
   "execution_count": null,
   "metadata": {},
   "outputs": [],
   "source": [
    "bootstap(target_valid_2, prediction_2)"
   ]
  },
  {
   "cell_type": "markdown",
   "metadata": {},
   "source": [
    "**Вывод** <br>\n",
    "Как мы видим, самым прибыльным оказался 2 регион. Средняя прибыль в этом регионе составит 462.96 млн.рублей, при этом процент вероятности убытка в данном регионе всего 1.3%. Два других региона не подходят из-за слишком высокой вероятности убытка. Таким образом не смотря на сравнительно меньшие запасы сырья, по сравнению с другими регионами, средняя доходность со скважин во втором регионе прогнозируется выше других."
   ]
  },
  {
   "cell_type": "markdown",
   "metadata": {},
   "source": [
    "<div class=\"alert alert-block alert-success\">\n",
    "<b>Успех:</b> Отлично, проведено детальное исследование и был выбран правильный регион!\n",
    "</div>\n"
   ]
  },
  {
   "cell_type": "markdown",
   "metadata": {},
   "source": [
    "## Вывод"
   ]
  },
  {
   "cell_type": "markdown",
   "metadata": {},
   "source": [
    "**В ходе исследования было сделано:** <br>\n",
    "\n",
    "1. Загрузили данные, посмотрели общую информацию о датасетах\n",
    "2. Построили график распределения запасов сырья\n",
    "3. Разделили данные на выборки\n",
    "4. Обчили модели и сделали предсказания\n",
    "5. Напечатали на экране средний запас предсказанного сырья и RMSE модели\n",
    "6. Сохранили все ключевые для расчёта значения\n",
    "7. Рассчитали достаточный объём сырья для безубыточной разработки новой скважины\n",
    "8. Посчитали прибыль от 200 лучших скважин в каждом регионе\n",
    "9. Посчитали риски и прибыль для каждого региона\n",
    "10. Использовали технологию bootstrap\n",
    "\n",
    "\n",
    "**Общий вывод** <br>\n",
    "Средний запас ресурсов по регионам недостаточен даже для окупаемости вложений на разработку <br>\n",
    "Лучшим регионом является второй, так как не смотря на сравнительно меньшие предсказания запасов сырья в 27.75 млн.баррелей, 200 лучших скважин в этом регионе дают вероятность возникновения убытка всего 1.3% и прибыль 462.96 млн.рублей."
   ]
  },
  {
   "cell_type": "markdown",
   "metadata": {},
   "source": [
    "\n",
    "<div class=\"alert alert-block alert-success\">\n",
    "<b>Успех:</b> Всегда приятно наблюдать подробный и структурированный итоговый вывод в конце работы!\n",
    "</div>\n"
   ]
  },
  {
   "cell_type": "markdown",
   "metadata": {},
   "source": [
    "\n",
    "<div class=\"alert alert-block alert-info\">\n",
    "<b>Совет: </b> Если интересно изучить тему бутстрапа глубже - я оставлю  ниже несколько интересных и полезных ссылок по теме:\n",
    "        \n",
    "1. \"Bootstrap Hypothesis Testing in Statistics with Example\" \n",
    "        \n",
    "https://www.youtube.com/watch?v=9STZ7MxkNVg\n",
    "        \n",
    "2. \"How to Calculate Bootstrap Confidence Intervals For Machine Learning Results in Python\" \n",
    "        \n",
    "https://machinelearningmastery.com/calculate-bootstrap-confidence-intervals-machine-learning-results-python/\n",
    "        \n",
    "3. \"A Gentle Introduction to the Bootstrap Method\" \n",
    "\n",
    "https://machinelearningmastery.com/a-gentle-introduction-to-the-bootstrap-method/\n",
    "        \n",
    "4. \"An Introduction to the Bootstrap Method\" \n",
    "        \n",
    "https://towardsdatascience.com/an-introduction-to-the-bootstrap-method-58bcb51b4d60#:~:text=The%20basic%20idea%20of%20bootstrap,population%20mean)%20on%20sample%20data.&amp;text=A%20sample%20from%20population%20with%20sample%20size%20n\n",
    "        \n",
    "5. \"Bootstrapping and Resampling in Statistics with Example\" \n",
    "        \n",
    "        \n",
    "https://www.youtube.com/watch?v=O_Fj4q8lgmc\n",
    "</div>\n",
    "\n"
   ]
  },
  {
   "cell_type": "markdown",
   "metadata": {},
   "source": [
    "## Чек-лист готовности проекта"
   ]
  },
  {
   "cell_type": "markdown",
   "metadata": {},
   "source": [
    "Поставьте 'x' в выполненных пунктах. Далее нажмите Shift+Enter."
   ]
  },
  {
   "cell_type": "markdown",
   "metadata": {},
   "source": [
    "- [x]  Jupyter Notebook открыт\n",
    "- [ ]  Весь код выполняется без ошибок\n",
    "- [ ]  Ячейки с кодом расположены в порядке исполнения\n",
    "- [ ]  Выполнен шаг 1: данные подготовлены\n",
    "- [ ]  Выполнен шаг 2: модели обучены и проверены\n",
    "    - [ ]  Данные корректно разбиты на обучающую и валидационную выборки\n",
    "    - [ ]  Модели обучены, предсказания сделаны\n",
    "    - [ ]  Предсказания и правильные ответы на валидационной выборке сохранены\n",
    "    - [ ]  На экране напечатаны результаты\n",
    "    - [ ]  Сделаны выводы\n",
    "- [ ]  Выполнен шаг 3: проведена подготовка к расчёту прибыли\n",
    "    - [ ]  Для всех ключевых значений созданы константы Python\n",
    "    - [ ]  Посчитано минимальное среднее количество продукта в месторождениях региона, достаточное для разработки\n",
    "    - [ ]  По предыдущему пункту сделаны выводы\n",
    "    - [ ]  Написана функция расчёта прибыли\n",
    "- [ ]  Выполнен шаг 4: посчитаны риски и прибыль\n",
    "    - [ ]  Проведена процедура *Bootstrap*\n",
    "    - [ ]  Все параметры бутстрепа соответствуют условию\n",
    "    - [ ]  Найдены все нужные величины\n",
    "    - [ ]  Предложен регион для разработки месторождения\n",
    "    - [ ]  Выбор региона обоснован"
   ]
  }
 ],
 "metadata": {
  "ExecuteTimeLog": [
   {
    "duration": 1496,
    "start_time": "2022-12-18T04:20:42.033Z"
   },
   {
    "duration": 4,
    "start_time": "2022-12-18T04:20:44.075Z"
   },
   {
    "duration": 639,
    "start_time": "2022-12-18T04:20:52.359Z"
   },
   {
    "duration": 5,
    "start_time": "2022-12-18T04:20:56.211Z"
   },
   {
    "duration": 381,
    "start_time": "2022-12-18T04:20:57.412Z"
   },
   {
    "duration": 109,
    "start_time": "2022-12-18T04:22:18.975Z"
   },
   {
    "duration": 22,
    "start_time": "2022-12-18T04:22:55.293Z"
   },
   {
    "duration": 17,
    "start_time": "2022-12-18T04:23:09.715Z"
   },
   {
    "duration": 37,
    "start_time": "2022-12-18T04:24:01.515Z"
   },
   {
    "duration": 11,
    "start_time": "2022-12-18T04:25:30.865Z"
   },
   {
    "duration": 15,
    "start_time": "2022-12-18T04:27:01.815Z"
   },
   {
    "duration": 33,
    "start_time": "2022-12-18T04:27:20.878Z"
   },
   {
    "duration": 10,
    "start_time": "2022-12-18T04:28:07.692Z"
   },
   {
    "duration": 11,
    "start_time": "2022-12-18T04:28:12.081Z"
   },
   {
    "duration": 14,
    "start_time": "2022-12-18T04:28:14.369Z"
   },
   {
    "duration": 33,
    "start_time": "2022-12-18T04:28:21.011Z"
   },
   {
    "duration": 5,
    "start_time": "2022-12-18T04:30:38.919Z"
   },
   {
    "duration": 1301,
    "start_time": "2022-12-18T04:30:45.757Z"
   },
   {
    "duration": 371,
    "start_time": "2022-12-18T04:30:47.060Z"
   },
   {
    "duration": 15,
    "start_time": "2022-12-18T04:30:47.433Z"
   },
   {
    "duration": 14,
    "start_time": "2022-12-18T04:30:47.450Z"
   },
   {
    "duration": 52,
    "start_time": "2022-12-18T04:30:47.465Z"
   },
   {
    "duration": 10,
    "start_time": "2022-12-18T04:30:47.518Z"
   },
   {
    "duration": 15,
    "start_time": "2022-12-18T04:30:47.530Z"
   },
   {
    "duration": 35,
    "start_time": "2022-12-18T04:30:47.547Z"
   },
   {
    "duration": 36,
    "start_time": "2022-12-18T04:30:47.584Z"
   },
   {
    "duration": 18,
    "start_time": "2022-12-18T04:30:47.622Z"
   },
   {
    "duration": 34,
    "start_time": "2022-12-18T04:30:47.642Z"
   },
   {
    "duration": 4,
    "start_time": "2022-12-18T04:38:50.186Z"
   },
   {
    "duration": 325,
    "start_time": "2022-12-18T04:38:57.248Z"
   },
   {
    "duration": 3,
    "start_time": "2022-12-18T04:40:37.259Z"
   },
   {
    "duration": 294,
    "start_time": "2022-12-18T04:40:38.672Z"
   },
   {
    "duration": 356,
    "start_time": "2022-12-18T04:40:53.047Z"
   },
   {
    "duration": 292,
    "start_time": "2022-12-18T04:41:00.981Z"
   },
   {
    "duration": 3,
    "start_time": "2022-12-18T04:42:24.569Z"
   },
   {
    "duration": 350,
    "start_time": "2022-12-18T04:42:27.144Z"
   },
   {
    "duration": 368,
    "start_time": "2022-12-18T04:42:30.097Z"
   },
   {
    "duration": 361,
    "start_time": "2022-12-18T04:42:32.467Z"
   },
   {
    "duration": 9,
    "start_time": "2022-12-18T04:48:07.219Z"
   },
   {
    "duration": 16,
    "start_time": "2022-12-18T04:49:00.235Z"
   },
   {
    "duration": 240,
    "start_time": "2022-12-18T04:51:47.178Z"
   },
   {
    "duration": 42,
    "start_time": "2022-12-18T05:02:48.469Z"
   },
   {
    "duration": 11,
    "start_time": "2022-12-18T05:02:49.715Z"
   },
   {
    "duration": 11,
    "start_time": "2022-12-18T05:03:16.537Z"
   },
   {
    "duration": 12,
    "start_time": "2022-12-18T05:03:37.732Z"
   },
   {
    "duration": 106,
    "start_time": "2022-12-18T05:12:52.681Z"
   },
   {
    "duration": 7,
    "start_time": "2022-12-18T05:12:56.647Z"
   },
   {
    "duration": 48,
    "start_time": "2022-12-18T05:12:57.843Z"
   },
   {
    "duration": 1386,
    "start_time": "2022-12-18T05:14:42.951Z"
   },
   {
    "duration": 398,
    "start_time": "2022-12-18T05:14:44.339Z"
   },
   {
    "duration": 15,
    "start_time": "2022-12-18T05:14:44.739Z"
   },
   {
    "duration": 14,
    "start_time": "2022-12-18T05:14:44.756Z"
   },
   {
    "duration": 53,
    "start_time": "2022-12-18T05:14:44.772Z"
   },
   {
    "duration": 13,
    "start_time": "2022-12-18T05:14:44.826Z"
   },
   {
    "duration": 20,
    "start_time": "2022-12-18T05:14:44.841Z"
   },
   {
    "duration": 62,
    "start_time": "2022-12-18T05:14:44.864Z"
   },
   {
    "duration": 12,
    "start_time": "2022-12-18T05:14:44.928Z"
   },
   {
    "duration": 16,
    "start_time": "2022-12-18T05:14:44.943Z"
   },
   {
    "duration": 65,
    "start_time": "2022-12-18T05:14:44.961Z"
   },
   {
    "duration": 301,
    "start_time": "2022-12-18T05:14:45.028Z"
   },
   {
    "duration": 46,
    "start_time": "2022-12-18T05:14:45.331Z"
   },
   {
    "duration": 9,
    "start_time": "2022-12-18T05:14:45.378Z"
   },
   {
    "duration": 27,
    "start_time": "2022-12-18T05:14:45.389Z"
   },
   {
    "duration": 11,
    "start_time": "2022-12-18T05:14:45.418Z"
   },
   {
    "duration": 7,
    "start_time": "2022-12-18T05:14:45.430Z"
   },
   {
    "duration": 88,
    "start_time": "2022-12-18T05:14:45.438Z"
   },
   {
    "duration": 205,
    "start_time": "2022-12-18T05:14:45.528Z"
   },
   {
    "duration": 5,
    "start_time": "2022-12-18T05:15:14.404Z"
   },
   {
    "duration": 145,
    "start_time": "2022-12-18T05:15:15.874Z"
   },
   {
    "duration": 38,
    "start_time": "2022-12-18T05:15:47.981Z"
   },
   {
    "duration": 47,
    "start_time": "2022-12-18T05:16:12.770Z"
   },
   {
    "duration": 17,
    "start_time": "2022-12-18T06:33:10.551Z"
   },
   {
    "duration": 21,
    "start_time": "2022-12-18T06:33:11.929Z"
   },
   {
    "duration": 17,
    "start_time": "2022-12-18T06:33:13.472Z"
   },
   {
    "duration": 16,
    "start_time": "2022-12-18T06:34:42.427Z"
   },
   {
    "duration": 56,
    "start_time": "2022-12-18T06:36:05.286Z"
   },
   {
    "duration": 1418,
    "start_time": "2022-12-18T06:36:26.028Z"
   },
   {
    "duration": 411,
    "start_time": "2022-12-18T06:36:27.448Z"
   },
   {
    "duration": 21,
    "start_time": "2022-12-18T06:36:27.861Z"
   },
   {
    "duration": 16,
    "start_time": "2022-12-18T06:36:27.884Z"
   },
   {
    "duration": 41,
    "start_time": "2022-12-18T06:36:27.915Z"
   },
   {
    "duration": 13,
    "start_time": "2022-12-18T06:36:27.957Z"
   },
   {
    "duration": 44,
    "start_time": "2022-12-18T06:36:27.972Z"
   },
   {
    "duration": 43,
    "start_time": "2022-12-18T06:36:28.018Z"
   },
   {
    "duration": 15,
    "start_time": "2022-12-18T06:36:28.063Z"
   },
   {
    "duration": 44,
    "start_time": "2022-12-18T06:36:28.081Z"
   },
   {
    "duration": 45,
    "start_time": "2022-12-18T06:36:28.128Z"
   },
   {
    "duration": 316,
    "start_time": "2022-12-18T06:36:28.175Z"
   },
   {
    "duration": 56,
    "start_time": "2022-12-18T06:36:28.493Z"
   },
   {
    "duration": 8,
    "start_time": "2022-12-18T06:36:28.551Z"
   },
   {
    "duration": 12,
    "start_time": "2022-12-18T06:36:28.561Z"
   },
   {
    "duration": 11,
    "start_time": "2022-12-18T06:36:28.574Z"
   },
   {
    "duration": 49,
    "start_time": "2022-12-18T06:36:28.586Z"
   },
   {
    "duration": 180,
    "start_time": "2022-12-18T06:36:28.636Z"
   },
   {
    "duration": 119,
    "start_time": "2022-12-18T06:36:28.818Z"
   },
   {
    "duration": 177,
    "start_time": "2022-12-18T06:36:28.940Z"
   },
   {
    "duration": 18,
    "start_time": "2022-12-18T06:38:08.510Z"
   },
   {
    "duration": 23,
    "start_time": "2022-12-18T06:38:09.564Z"
   },
   {
    "duration": 17,
    "start_time": "2022-12-18T06:38:10.596Z"
   },
   {
    "duration": 54,
    "start_time": "2022-12-18T06:38:20.114Z"
   },
   {
    "duration": 53,
    "start_time": "2022-12-18T06:38:30.906Z"
   },
   {
    "duration": 17,
    "start_time": "2022-12-18T06:39:57.631Z"
   },
   {
    "duration": 17,
    "start_time": "2022-12-18T06:40:05.727Z"
   },
   {
    "duration": 1374,
    "start_time": "2022-12-18T06:40:39.852Z"
   },
   {
    "duration": 382,
    "start_time": "2022-12-18T06:40:41.228Z"
   },
   {
    "duration": 22,
    "start_time": "2022-12-18T06:40:41.611Z"
   },
   {
    "duration": 20,
    "start_time": "2022-12-18T06:40:41.634Z"
   },
   {
    "duration": 37,
    "start_time": "2022-12-18T06:40:41.656Z"
   },
   {
    "duration": 26,
    "start_time": "2022-12-18T06:40:41.695Z"
   },
   {
    "duration": 16,
    "start_time": "2022-12-18T06:40:41.723Z"
   },
   {
    "duration": 34,
    "start_time": "2022-12-18T06:40:41.741Z"
   },
   {
    "duration": 12,
    "start_time": "2022-12-18T06:40:41.776Z"
   },
   {
    "duration": 35,
    "start_time": "2022-12-18T06:40:41.791Z"
   },
   {
    "duration": 34,
    "start_time": "2022-12-18T06:40:41.827Z"
   },
   {
    "duration": 308,
    "start_time": "2022-12-18T06:40:41.863Z"
   },
   {
    "duration": 60,
    "start_time": "2022-12-18T06:40:42.172Z"
   },
   {
    "duration": 8,
    "start_time": "2022-12-18T06:40:42.234Z"
   },
   {
    "duration": 14,
    "start_time": "2022-12-18T06:40:42.243Z"
   },
   {
    "duration": 9,
    "start_time": "2022-12-18T06:40:42.259Z"
   },
   {
    "duration": 18,
    "start_time": "2022-12-18T06:40:42.269Z"
   },
   {
    "duration": 117,
    "start_time": "2022-12-18T06:40:42.315Z"
   },
   {
    "duration": 110,
    "start_time": "2022-12-18T06:40:42.434Z"
   },
   {
    "duration": 226,
    "start_time": "2022-12-18T06:40:42.620Z"
   },
   {
    "duration": 17,
    "start_time": "2022-12-18T06:41:02.153Z"
   },
   {
    "duration": 2,
    "start_time": "2022-12-18T06:55:58.574Z"
   },
   {
    "duration": 3,
    "start_time": "2022-12-18T06:56:07.705Z"
   },
   {
    "duration": 4,
    "start_time": "2022-12-18T06:56:17.871Z"
   },
   {
    "duration": 3,
    "start_time": "2022-12-18T06:56:50.156Z"
   },
   {
    "duration": 3,
    "start_time": "2022-12-18T07:02:54.136Z"
   },
   {
    "duration": 6,
    "start_time": "2022-12-18T07:03:19.429Z"
   },
   {
    "duration": 3,
    "start_time": "2022-12-18T07:07:25.613Z"
   },
   {
    "duration": 4,
    "start_time": "2022-12-18T07:24:24.277Z"
   },
   {
    "duration": 9,
    "start_time": "2022-12-18T07:24:41.763Z"
   },
   {
    "duration": 16,
    "start_time": "2022-12-18T07:24:45.077Z"
   },
   {
    "duration": 18,
    "start_time": "2022-12-18T07:24:48.823Z"
   },
   {
    "duration": 18,
    "start_time": "2022-12-18T07:25:06.725Z"
   },
   {
    "duration": 23,
    "start_time": "2022-12-18T07:26:35.796Z"
   },
   {
    "duration": 18,
    "start_time": "2022-12-18T07:26:49.509Z"
   },
   {
    "duration": 10,
    "start_time": "2022-12-18T07:26:58.711Z"
   },
   {
    "duration": 7,
    "start_time": "2022-12-18T07:27:01.885Z"
   },
   {
    "duration": 20,
    "start_time": "2022-12-18T07:27:12.895Z"
   },
   {
    "duration": 26,
    "start_time": "2022-12-18T07:27:28.382Z"
   },
   {
    "duration": 24,
    "start_time": "2022-12-18T07:29:06.676Z"
   },
   {
    "duration": 29,
    "start_time": "2022-12-18T07:29:07.914Z"
   },
   {
    "duration": 22,
    "start_time": "2022-12-18T07:29:09.792Z"
   },
   {
    "duration": 19,
    "start_time": "2022-12-18T07:29:13.079Z"
   },
   {
    "duration": 542,
    "start_time": "2022-12-18T07:30:21.276Z"
   },
   {
    "duration": 4,
    "start_time": "2022-12-18T07:32:21.583Z"
   },
   {
    "duration": 5,
    "start_time": "2022-12-18T07:33:10.623Z"
   },
   {
    "duration": 14,
    "start_time": "2022-12-18T07:33:12.054Z"
   },
   {
    "duration": 4,
    "start_time": "2022-12-18T07:33:30.251Z"
   },
   {
    "duration": 33,
    "start_time": "2022-12-18T07:33:31.687Z"
   },
   {
    "duration": 5,
    "start_time": "2022-12-18T07:33:41.471Z"
   },
   {
    "duration": 16,
    "start_time": "2022-12-18T07:33:43.537Z"
   },
   {
    "duration": 4,
    "start_time": "2022-12-18T07:34:08.657Z"
   },
   {
    "duration": 17,
    "start_time": "2022-12-18T07:34:10.069Z"
   },
   {
    "duration": 5,
    "start_time": "2022-12-18T07:34:17.952Z"
   },
   {
    "duration": 18,
    "start_time": "2022-12-18T07:34:20.113Z"
   },
   {
    "duration": 15,
    "start_time": "2022-12-18T07:35:37.367Z"
   },
   {
    "duration": 17,
    "start_time": "2022-12-18T07:35:39.150Z"
   },
   {
    "duration": 1708,
    "start_time": "2022-12-19T09:10:13.015Z"
   },
   {
    "duration": 744,
    "start_time": "2022-12-19T09:10:14.727Z"
   },
   {
    "duration": 23,
    "start_time": "2022-12-19T09:10:15.474Z"
   },
   {
    "duration": 17,
    "start_time": "2022-12-19T09:10:15.499Z"
   },
   {
    "duration": 51,
    "start_time": "2022-12-19T09:10:15.518Z"
   },
   {
    "duration": 15,
    "start_time": "2022-12-19T09:10:15.570Z"
   },
   {
    "duration": 33,
    "start_time": "2022-12-19T09:10:15.587Z"
   },
   {
    "duration": 63,
    "start_time": "2022-12-19T09:10:15.623Z"
   },
   {
    "duration": 16,
    "start_time": "2022-12-19T09:10:15.689Z"
   },
   {
    "duration": 39,
    "start_time": "2022-12-19T09:10:15.709Z"
   },
   {
    "duration": 50,
    "start_time": "2022-12-19T09:10:15.751Z"
   },
   {
    "duration": 363,
    "start_time": "2022-12-19T09:10:15.804Z"
   },
   {
    "duration": 65,
    "start_time": "2022-12-19T09:10:16.170Z"
   },
   {
    "duration": 33,
    "start_time": "2022-12-19T09:10:16.238Z"
   },
   {
    "duration": 59,
    "start_time": "2022-12-19T09:10:16.274Z"
   },
   {
    "duration": 19,
    "start_time": "2022-12-19T09:10:16.335Z"
   },
   {
    "duration": 58,
    "start_time": "2022-12-19T09:10:16.357Z"
   },
   {
    "duration": 136,
    "start_time": "2022-12-19T09:10:16.417Z"
   },
   {
    "duration": 186,
    "start_time": "2022-12-19T09:10:16.560Z"
   },
   {
    "duration": 100,
    "start_time": "2022-12-19T09:10:16.753Z"
   },
   {
    "duration": 26,
    "start_time": "2022-12-19T09:10:16.858Z"
   },
   {
    "duration": 19,
    "start_time": "2022-12-19T09:10:16.935Z"
   },
   {
    "duration": 63,
    "start_time": "2022-12-19T09:10:16.957Z"
   },
   {
    "duration": 14,
    "start_time": "2022-12-19T09:10:17.022Z"
   },
   {
    "duration": 43,
    "start_time": "2022-12-19T09:10:17.038Z"
   },
   {
    "duration": 17,
    "start_time": "2022-12-19T09:10:17.083Z"
   },
   {
    "duration": 17,
    "start_time": "2022-12-19T09:10:17.102Z"
   },
   {
    "duration": 4,
    "start_time": "2022-12-19T09:16:53.822Z"
   },
   {
    "duration": 7,
    "start_time": "2022-12-19T09:16:55.814Z"
   },
   {
    "duration": 6,
    "start_time": "2022-12-19T09:17:48.090Z"
   },
   {
    "duration": 116,
    "start_time": "2022-12-19T09:18:12.162Z"
   },
   {
    "duration": 16,
    "start_time": "2022-12-19T09:18:16.457Z"
   },
   {
    "duration": 9,
    "start_time": "2022-12-19T09:18:33.915Z"
   },
   {
    "duration": 7,
    "start_time": "2022-12-19T09:18:37.296Z"
   },
   {
    "duration": 1521,
    "start_time": "2022-12-19T09:18:38.838Z"
   },
   {
    "duration": 4,
    "start_time": "2022-12-19T09:18:57.075Z"
   },
   {
    "duration": 1592,
    "start_time": "2022-12-19T09:19:02.487Z"
   },
   {
    "duration": 1517,
    "start_time": "2022-12-19T09:21:46.662Z"
   },
   {
    "duration": 1623,
    "start_time": "2022-12-19T09:21:48.326Z"
   },
   {
    "duration": 79,
    "start_time": "2022-12-19T09:28:38.496Z"
   },
   {
    "duration": 1599,
    "start_time": "2022-12-19T09:28:39.827Z"
   },
   {
    "duration": 1720,
    "start_time": "2022-12-19T09:28:41.435Z"
   },
   {
    "duration": 1512,
    "start_time": "2022-12-19T09:28:43.193Z"
   },
   {
    "duration": 1586,
    "start_time": "2022-12-19T10:00:56.066Z"
   },
   {
    "duration": 407,
    "start_time": "2022-12-19T10:00:57.655Z"
   },
   {
    "duration": 23,
    "start_time": "2022-12-19T10:00:58.064Z"
   },
   {
    "duration": 21,
    "start_time": "2022-12-19T10:00:58.090Z"
   },
   {
    "duration": 67,
    "start_time": "2022-12-19T10:00:58.113Z"
   },
   {
    "duration": 14,
    "start_time": "2022-12-19T10:00:58.183Z"
   },
   {
    "duration": 27,
    "start_time": "2022-12-19T10:00:58.199Z"
   },
   {
    "duration": 43,
    "start_time": "2022-12-19T10:00:58.228Z"
   },
   {
    "duration": 12,
    "start_time": "2022-12-19T10:00:58.273Z"
   },
   {
    "duration": 40,
    "start_time": "2022-12-19T10:00:58.289Z"
   },
   {
    "duration": 57,
    "start_time": "2022-12-19T10:00:58.336Z"
   },
   {
    "duration": 406,
    "start_time": "2022-12-19T10:00:58.395Z"
   },
   {
    "duration": 53,
    "start_time": "2022-12-19T10:00:58.803Z"
   },
   {
    "duration": 10,
    "start_time": "2022-12-19T10:00:58.858Z"
   },
   {
    "duration": 19,
    "start_time": "2022-12-19T10:00:58.869Z"
   },
   {
    "duration": 37,
    "start_time": "2022-12-19T10:00:58.890Z"
   },
   {
    "duration": 51,
    "start_time": "2022-12-19T10:00:58.929Z"
   },
   {
    "duration": 155,
    "start_time": "2022-12-19T10:00:58.981Z"
   },
   {
    "duration": 298,
    "start_time": "2022-12-19T10:00:59.138Z"
   },
   {
    "duration": 22,
    "start_time": "2022-12-19T10:00:59.439Z"
   },
   {
    "duration": 14,
    "start_time": "2022-12-19T10:00:59.463Z"
   },
   {
    "duration": 72,
    "start_time": "2022-12-19T10:00:59.480Z"
   },
   {
    "duration": 19,
    "start_time": "2022-12-19T10:00:59.554Z"
   },
   {
    "duration": 23,
    "start_time": "2022-12-19T10:00:59.576Z"
   },
   {
    "duration": 55,
    "start_time": "2022-12-19T10:00:59.602Z"
   },
   {
    "duration": 20,
    "start_time": "2022-12-19T10:00:59.659Z"
   },
   {
    "duration": 23,
    "start_time": "2022-12-19T10:00:59.681Z"
   },
   {
    "duration": 5,
    "start_time": "2022-12-19T10:00:59.708Z"
   },
   {
    "duration": 11,
    "start_time": "2022-12-19T10:00:59.735Z"
   },
   {
    "duration": 1780,
    "start_time": "2022-12-19T10:00:59.748Z"
   },
   {
    "duration": 2013,
    "start_time": "2022-12-19T10:01:01.535Z"
   },
   {
    "duration": 1785,
    "start_time": "2022-12-19T10:01:03.550Z"
   },
   {
    "duration": 1486,
    "start_time": "2022-12-19T10:01:57.653Z"
   },
   {
    "duration": 384,
    "start_time": "2022-12-19T10:01:59.141Z"
   },
   {
    "duration": 15,
    "start_time": "2022-12-19T10:01:59.527Z"
   },
   {
    "duration": 17,
    "start_time": "2022-12-19T10:01:59.545Z"
   },
   {
    "duration": 50,
    "start_time": "2022-12-19T10:01:59.564Z"
   },
   {
    "duration": 24,
    "start_time": "2022-12-19T10:01:59.616Z"
   },
   {
    "duration": 37,
    "start_time": "2022-12-19T10:01:59.642Z"
   },
   {
    "duration": 37,
    "start_time": "2022-12-19T10:01:59.681Z"
   },
   {
    "duration": 17,
    "start_time": "2022-12-19T10:01:59.720Z"
   },
   {
    "duration": 32,
    "start_time": "2022-12-19T10:01:59.740Z"
   },
   {
    "duration": 36,
    "start_time": "2022-12-19T10:01:59.774Z"
   },
   {
    "duration": 368,
    "start_time": "2022-12-19T10:01:59.812Z"
   },
   {
    "duration": 66,
    "start_time": "2022-12-19T10:02:00.182Z"
   },
   {
    "duration": 9,
    "start_time": "2022-12-19T10:02:00.250Z"
   },
   {
    "duration": 50,
    "start_time": "2022-12-19T10:02:00.261Z"
   },
   {
    "duration": 27,
    "start_time": "2022-12-19T10:02:00.314Z"
   },
   {
    "duration": 54,
    "start_time": "2022-12-19T10:02:00.343Z"
   },
   {
    "duration": 118,
    "start_time": "2022-12-19T10:02:00.436Z"
   },
   {
    "duration": 194,
    "start_time": "2022-12-19T10:02:00.557Z"
   },
   {
    "duration": 202,
    "start_time": "2022-12-19T10:02:00.753Z"
   },
   {
    "duration": 40,
    "start_time": "2022-12-19T10:02:00.956Z"
   },
   {
    "duration": 65,
    "start_time": "2022-12-19T10:02:00.998Z"
   },
   {
    "duration": 67,
    "start_time": "2022-12-19T10:02:01.065Z"
   },
   {
    "duration": 45,
    "start_time": "2022-12-19T10:02:01.134Z"
   },
   {
    "duration": 50,
    "start_time": "2022-12-19T10:02:01.181Z"
   },
   {
    "duration": 41,
    "start_time": "2022-12-19T10:02:01.233Z"
   },
   {
    "duration": 43,
    "start_time": "2022-12-19T10:02:01.276Z"
   },
   {
    "duration": 63,
    "start_time": "2022-12-19T10:02:01.323Z"
   },
   {
    "duration": 29,
    "start_time": "2022-12-19T10:02:01.388Z"
   },
   {
    "duration": 1667,
    "start_time": "2022-12-19T10:02:01.419Z"
   },
   {
    "duration": 1462,
    "start_time": "2022-12-19T10:02:03.088Z"
   },
   {
    "duration": 1491,
    "start_time": "2022-12-19T10:02:04.552Z"
   },
   {
    "duration": 2339,
    "start_time": "2022-12-20T08:17:29.633Z"
   },
   {
    "duration": 2887,
    "start_time": "2022-12-20T08:17:31.977Z"
   },
   {
    "duration": 43,
    "start_time": "2022-12-20T08:17:34.866Z"
   },
   {
    "duration": 101,
    "start_time": "2022-12-20T08:17:34.917Z"
   },
   {
    "duration": 68,
    "start_time": "2022-12-20T08:17:35.023Z"
   },
   {
    "duration": 18,
    "start_time": "2022-12-20T08:17:35.093Z"
   },
   {
    "duration": 74,
    "start_time": "2022-12-20T08:17:35.114Z"
   },
   {
    "duration": 54,
    "start_time": "2022-12-20T08:17:35.189Z"
   },
   {
    "duration": 24,
    "start_time": "2022-12-20T08:17:35.245Z"
   },
   {
    "duration": 36,
    "start_time": "2022-12-20T08:17:35.271Z"
   },
   {
    "duration": 63,
    "start_time": "2022-12-20T08:17:35.309Z"
   },
   {
    "duration": 377,
    "start_time": "2022-12-20T08:17:35.375Z"
   },
   {
    "duration": 62,
    "start_time": "2022-12-20T08:17:35.753Z"
   },
   {
    "duration": 13,
    "start_time": "2022-12-20T08:17:35.823Z"
   },
   {
    "duration": 36,
    "start_time": "2022-12-20T08:17:35.841Z"
   },
   {
    "duration": 13,
    "start_time": "2022-12-20T08:17:35.880Z"
   },
   {
    "duration": 47,
    "start_time": "2022-12-20T08:17:35.895Z"
   },
   {
    "duration": 177,
    "start_time": "2022-12-20T08:17:35.944Z"
   },
   {
    "duration": 178,
    "start_time": "2022-12-20T08:17:36.142Z"
   },
   {
    "duration": 130,
    "start_time": "2022-12-20T08:17:36.333Z"
   },
   {
    "duration": 15,
    "start_time": "2022-12-20T08:17:36.479Z"
   },
   {
    "duration": 83,
    "start_time": "2022-12-20T08:17:36.496Z"
   },
   {
    "duration": 5,
    "start_time": "2022-12-20T08:17:36.582Z"
   },
   {
    "duration": 33,
    "start_time": "2022-12-20T08:17:36.589Z"
   },
   {
    "duration": 79,
    "start_time": "2022-12-20T08:17:36.623Z"
   },
   {
    "duration": 121,
    "start_time": "2022-12-20T08:17:36.704Z"
   },
   {
    "duration": 72,
    "start_time": "2022-12-20T08:17:36.832Z"
   },
   {
    "duration": 30,
    "start_time": "2022-12-20T08:17:36.909Z"
   },
   {
    "duration": 134,
    "start_time": "2022-12-20T08:17:36.948Z"
   },
   {
    "duration": 2097,
    "start_time": "2022-12-20T08:17:37.087Z"
   },
   {
    "duration": 1936,
    "start_time": "2022-12-20T08:17:39.187Z"
   },
   {
    "duration": 2054,
    "start_time": "2022-12-20T08:17:41.135Z"
   },
   {
    "duration": 157,
    "start_time": "2022-12-20T08:19:56.972Z"
   },
   {
    "duration": 30842,
    "start_time": "2022-12-20T08:20:10.441Z"
   },
   {
    "duration": 15923,
    "start_time": "2022-12-20T08:21:27.053Z"
   },
   {
    "duration": 2293,
    "start_time": "2022-12-20T08:21:42.979Z"
   },
   {
    "duration": 438,
    "start_time": "2022-12-20T08:21:45.273Z"
   },
   {
    "duration": 21,
    "start_time": "2022-12-20T08:21:45.717Z"
   },
   {
    "duration": 57,
    "start_time": "2022-12-20T08:21:45.740Z"
   },
   {
    "duration": 53,
    "start_time": "2022-12-20T08:21:45.799Z"
   },
   {
    "duration": 35,
    "start_time": "2022-12-20T08:21:45.855Z"
   },
   {
    "duration": 38,
    "start_time": "2022-12-20T08:21:45.892Z"
   },
   {
    "duration": 85,
    "start_time": "2022-12-20T08:21:45.932Z"
   },
   {
    "duration": 17,
    "start_time": "2022-12-20T08:21:46.020Z"
   },
   {
    "duration": 44,
    "start_time": "2022-12-20T08:21:46.039Z"
   },
   {
    "duration": 43,
    "start_time": "2022-12-20T08:21:46.085Z"
   },
   {
    "duration": 378,
    "start_time": "2022-12-20T08:21:46.130Z"
   },
   {
    "duration": 67,
    "start_time": "2022-12-20T08:21:46.515Z"
   },
   {
    "duration": 12,
    "start_time": "2022-12-20T08:21:46.584Z"
   },
   {
    "duration": 47,
    "start_time": "2022-12-20T08:21:46.612Z"
   },
   {
    "duration": 32,
    "start_time": "2022-12-20T08:21:46.661Z"
   },
   {
    "duration": 54,
    "start_time": "2022-12-20T08:21:46.695Z"
   },
   {
    "duration": 204,
    "start_time": "2022-12-20T08:21:46.753Z"
   },
   {
    "duration": 187,
    "start_time": "2022-12-20T08:21:46.961Z"
   },
   {
    "duration": 172,
    "start_time": "2022-12-20T08:21:47.151Z"
   },
   {
    "duration": 21,
    "start_time": "2022-12-20T08:21:47.333Z"
   },
   {
    "duration": 8,
    "start_time": "2022-12-20T08:21:47.357Z"
   },
   {
    "duration": 4,
    "start_time": "2022-12-20T08:21:47.367Z"
   },
   {
    "duration": 7,
    "start_time": "2022-12-20T08:21:47.372Z"
   },
   {
    "duration": 22,
    "start_time": "2022-12-20T08:21:47.380Z"
   },
   {
    "duration": 22,
    "start_time": "2022-12-20T08:21:47.404Z"
   },
   {
    "duration": 40,
    "start_time": "2022-12-20T08:21:47.429Z"
   },
   {
    "duration": 4,
    "start_time": "2022-12-20T08:21:47.472Z"
   },
   {
    "duration": 10,
    "start_time": "2022-12-20T08:21:47.478Z"
   },
   {
    "duration": 1716,
    "start_time": "2022-12-20T08:21:47.491Z"
   },
   {
    "duration": 1679,
    "start_time": "2022-12-20T08:21:49.208Z"
   },
   {
    "duration": 1685,
    "start_time": "2022-12-20T08:21:50.889Z"
   },
   {
    "duration": 2326,
    "start_time": "2022-12-20T08:21:58.336Z"
   },
   {
    "duration": 448,
    "start_time": "2022-12-20T08:22:00.665Z"
   },
   {
    "duration": 23,
    "start_time": "2022-12-20T08:22:01.115Z"
   },
   {
    "duration": 38,
    "start_time": "2022-12-20T08:22:01.139Z"
   },
   {
    "duration": 56,
    "start_time": "2022-12-20T08:22:01.180Z"
   },
   {
    "duration": 23,
    "start_time": "2022-12-20T08:22:01.237Z"
   },
   {
    "duration": 32,
    "start_time": "2022-12-20T08:22:01.263Z"
   },
   {
    "duration": 58,
    "start_time": "2022-12-20T08:22:01.298Z"
   },
   {
    "duration": 31,
    "start_time": "2022-12-20T08:22:01.358Z"
   },
   {
    "duration": 64,
    "start_time": "2022-12-20T08:22:01.391Z"
   },
   {
    "duration": 49,
    "start_time": "2022-12-20T08:22:01.457Z"
   },
   {
    "duration": 354,
    "start_time": "2022-12-20T08:22:01.508Z"
   },
   {
    "duration": 89,
    "start_time": "2022-12-20T08:22:01.864Z"
   },
   {
    "duration": 12,
    "start_time": "2022-12-20T08:22:01.957Z"
   },
   {
    "duration": 23,
    "start_time": "2022-12-20T08:22:01.971Z"
   },
   {
    "duration": 17,
    "start_time": "2022-12-20T08:22:01.996Z"
   },
   {
    "duration": 66,
    "start_time": "2022-12-20T08:22:02.015Z"
   },
   {
    "duration": 137,
    "start_time": "2022-12-20T08:22:02.083Z"
   },
   {
    "duration": 137,
    "start_time": "2022-12-20T08:22:02.229Z"
   },
   {
    "duration": 117,
    "start_time": "2022-12-20T08:22:02.416Z"
   },
   {
    "duration": 18,
    "start_time": "2022-12-20T08:22:02.539Z"
   },
   {
    "duration": 19,
    "start_time": "2022-12-20T08:22:02.560Z"
   },
   {
    "duration": 18,
    "start_time": "2022-12-20T08:22:02.581Z"
   },
   {
    "duration": 44,
    "start_time": "2022-12-20T08:22:02.601Z"
   },
   {
    "duration": 29,
    "start_time": "2022-12-20T08:22:02.648Z"
   },
   {
    "duration": 22,
    "start_time": "2022-12-20T08:22:02.680Z"
   },
   {
    "duration": 27,
    "start_time": "2022-12-20T08:22:02.705Z"
   },
   {
    "duration": 46,
    "start_time": "2022-12-20T08:22:02.734Z"
   },
   {
    "duration": 11,
    "start_time": "2022-12-20T08:22:02.783Z"
   },
   {
    "duration": 1751,
    "start_time": "2022-12-20T08:22:02.796Z"
   },
   {
    "duration": 1741,
    "start_time": "2022-12-20T08:22:04.551Z"
   },
   {
    "duration": 1986,
    "start_time": "2022-12-20T08:22:06.294Z"
   },
   {
    "duration": 261,
    "start_time": "2022-12-20T08:23:03.894Z"
   },
   {
    "duration": 12078,
    "start_time": "2022-12-20T08:23:10.146Z"
   },
   {
    "duration": 2225,
    "start_time": "2022-12-20T08:32:29.930Z"
   },
   {
    "duration": 449,
    "start_time": "2022-12-20T08:32:32.157Z"
   },
   {
    "duration": 20,
    "start_time": "2022-12-20T08:32:32.608Z"
   },
   {
    "duration": 64,
    "start_time": "2022-12-20T08:32:32.629Z"
   },
   {
    "duration": 49,
    "start_time": "2022-12-20T08:32:32.695Z"
   },
   {
    "duration": 15,
    "start_time": "2022-12-20T08:32:32.748Z"
   },
   {
    "duration": 25,
    "start_time": "2022-12-20T08:32:32.765Z"
   },
   {
    "duration": 46,
    "start_time": "2022-12-20T08:32:32.792Z"
   },
   {
    "duration": 22,
    "start_time": "2022-12-20T08:32:32.839Z"
   },
   {
    "duration": 22,
    "start_time": "2022-12-20T08:32:32.863Z"
   },
   {
    "duration": 48,
    "start_time": "2022-12-20T08:32:32.887Z"
   },
   {
    "duration": 332,
    "start_time": "2022-12-20T08:32:32.937Z"
   },
   {
    "duration": 12338,
    "start_time": "2022-12-20T08:32:33.271Z"
   },
   {
    "duration": 10983,
    "start_time": "2022-12-20T08:32:45.613Z"
   },
   {
    "duration": 11530,
    "start_time": "2022-12-20T08:32:56.598Z"
   },
   {
    "duration": 108,
    "start_time": "2022-12-20T08:33:08.130Z"
   },
   {
    "duration": 12,
    "start_time": "2022-12-20T08:33:08.240Z"
   },
   {
    "duration": 26,
    "start_time": "2022-12-20T08:33:08.256Z"
   },
   {
    "duration": 37,
    "start_time": "2022-12-20T08:33:08.284Z"
   },
   {
    "duration": 59,
    "start_time": "2022-12-20T08:33:08.324Z"
   },
   {
    "duration": 173,
    "start_time": "2022-12-20T08:33:08.385Z"
   },
   {
    "duration": 172,
    "start_time": "2022-12-20T08:33:08.565Z"
   },
   {
    "duration": 120,
    "start_time": "2022-12-20T08:33:08.739Z"
   },
   {
    "duration": 3,
    "start_time": "2022-12-20T08:33:08.861Z"
   },
   {
    "duration": 50,
    "start_time": "2022-12-20T08:33:08.866Z"
   },
   {
    "duration": 4,
    "start_time": "2022-12-20T08:33:08.918Z"
   },
   {
    "duration": 40,
    "start_time": "2022-12-20T08:33:08.923Z"
   },
   {
    "duration": 33,
    "start_time": "2022-12-20T08:33:08.965Z"
   },
   {
    "duration": 28,
    "start_time": "2022-12-20T08:33:09.001Z"
   },
   {
    "duration": 40,
    "start_time": "2022-12-20T08:33:09.031Z"
   },
   {
    "duration": 14,
    "start_time": "2022-12-20T08:33:09.073Z"
   },
   {
    "duration": 58,
    "start_time": "2022-12-20T08:33:09.089Z"
   },
   {
    "duration": 1846,
    "start_time": "2022-12-20T08:33:09.150Z"
   },
   {
    "duration": 1717,
    "start_time": "2022-12-20T08:33:11.011Z"
   },
   {
    "duration": 1831,
    "start_time": "2022-12-20T08:33:12.734Z"
   },
   {
    "duration": 2608,
    "start_time": "2022-12-20T08:42:48.974Z"
   },
   {
    "duration": 487,
    "start_time": "2022-12-20T08:42:51.585Z"
   },
   {
    "duration": 19,
    "start_time": "2022-12-20T08:42:52.074Z"
   },
   {
    "duration": 41,
    "start_time": "2022-12-20T08:42:52.096Z"
   },
   {
    "duration": 71,
    "start_time": "2022-12-20T08:42:52.140Z"
   },
   {
    "duration": 23,
    "start_time": "2022-12-20T08:42:52.213Z"
   },
   {
    "duration": 92,
    "start_time": "2022-12-20T08:42:52.240Z"
   },
   {
    "duration": 116,
    "start_time": "2022-12-20T08:42:52.334Z"
   },
   {
    "duration": 50,
    "start_time": "2022-12-20T08:42:52.452Z"
   },
   {
    "duration": 75,
    "start_time": "2022-12-20T08:42:52.504Z"
   },
   {
    "duration": 52,
    "start_time": "2022-12-20T08:42:52.582Z"
   },
   {
    "duration": 348,
    "start_time": "2022-12-20T08:42:52.640Z"
   },
   {
    "duration": 12840,
    "start_time": "2022-12-20T08:42:52.991Z"
   },
   {
    "duration": 11852,
    "start_time": "2022-12-20T08:43:05.835Z"
   },
   {
    "duration": 12250,
    "start_time": "2022-12-20T08:43:17.690Z"
   },
   {
    "duration": 122,
    "start_time": "2022-12-20T08:43:29.942Z"
   },
   {
    "duration": 10,
    "start_time": "2022-12-20T08:43:30.070Z"
   },
   {
    "duration": 37,
    "start_time": "2022-12-20T08:43:30.114Z"
   },
   {
    "duration": 51,
    "start_time": "2022-12-20T08:43:30.154Z"
   },
   {
    "duration": 76,
    "start_time": "2022-12-20T08:43:30.208Z"
   },
   {
    "duration": 150,
    "start_time": "2022-12-20T08:43:30.286Z"
   },
   {
    "duration": 183,
    "start_time": "2022-12-20T08:43:30.443Z"
   },
   {
    "duration": 112,
    "start_time": "2022-12-20T08:43:30.640Z"
   },
   {
    "duration": 27,
    "start_time": "2022-12-20T08:43:30.758Z"
   },
   {
    "duration": 28,
    "start_time": "2022-12-20T08:43:30.787Z"
   },
   {
    "duration": 54,
    "start_time": "2022-12-20T08:43:30.818Z"
   },
   {
    "duration": 15,
    "start_time": "2022-12-20T08:43:30.874Z"
   },
   {
    "duration": 76,
    "start_time": "2022-12-20T08:43:30.891Z"
   },
   {
    "duration": 17,
    "start_time": "2022-12-20T08:43:30.969Z"
   },
   {
    "duration": 27,
    "start_time": "2022-12-20T08:43:30.988Z"
   },
   {
    "duration": 26,
    "start_time": "2022-12-20T08:43:31.016Z"
   },
   {
    "duration": 34,
    "start_time": "2022-12-20T08:43:31.044Z"
   },
   {
    "duration": 2015,
    "start_time": "2022-12-20T08:43:31.080Z"
   },
   {
    "duration": 1973,
    "start_time": "2022-12-20T08:43:33.097Z"
   },
   {
    "duration": 2151,
    "start_time": "2022-12-20T08:43:35.072Z"
   },
   {
    "duration": 488,
    "start_time": "2022-12-29T06:37:05.653Z"
   },
   {
    "duration": 0,
    "start_time": "2022-12-29T06:37:06.144Z"
   },
   {
    "duration": 0,
    "start_time": "2022-12-29T06:37:06.145Z"
   },
   {
    "duration": 0,
    "start_time": "2022-12-29T06:37:06.146Z"
   },
   {
    "duration": 0,
    "start_time": "2022-12-29T06:37:06.147Z"
   },
   {
    "duration": 0,
    "start_time": "2022-12-29T06:37:06.148Z"
   },
   {
    "duration": 0,
    "start_time": "2022-12-29T06:37:06.149Z"
   },
   {
    "duration": 0,
    "start_time": "2022-12-29T06:37:06.150Z"
   },
   {
    "duration": 0,
    "start_time": "2022-12-29T06:37:06.151Z"
   },
   {
    "duration": 0,
    "start_time": "2022-12-29T06:37:06.152Z"
   },
   {
    "duration": 0,
    "start_time": "2022-12-29T06:37:06.153Z"
   },
   {
    "duration": 0,
    "start_time": "2022-12-29T06:37:06.155Z"
   },
   {
    "duration": 0,
    "start_time": "2022-12-29T06:37:06.156Z"
   },
   {
    "duration": 0,
    "start_time": "2022-12-29T06:37:06.158Z"
   },
   {
    "duration": 0,
    "start_time": "2022-12-29T06:37:06.159Z"
   },
   {
    "duration": 0,
    "start_time": "2022-12-29T06:37:06.160Z"
   },
   {
    "duration": 0,
    "start_time": "2022-12-29T06:37:06.161Z"
   },
   {
    "duration": 0,
    "start_time": "2022-12-29T06:37:06.162Z"
   },
   {
    "duration": 0,
    "start_time": "2022-12-29T06:37:06.163Z"
   },
   {
    "duration": 0,
    "start_time": "2022-12-29T06:37:06.164Z"
   },
   {
    "duration": 0,
    "start_time": "2022-12-29T06:37:06.165Z"
   },
   {
    "duration": 0,
    "start_time": "2022-12-29T06:37:06.166Z"
   },
   {
    "duration": 0,
    "start_time": "2022-12-29T06:37:06.167Z"
   },
   {
    "duration": 0,
    "start_time": "2022-12-29T06:37:06.169Z"
   },
   {
    "duration": 0,
    "start_time": "2022-12-29T06:37:06.170Z"
   },
   {
    "duration": 0,
    "start_time": "2022-12-29T06:37:06.172Z"
   },
   {
    "duration": 0,
    "start_time": "2022-12-29T06:37:06.173Z"
   },
   {
    "duration": 0,
    "start_time": "2022-12-29T06:37:06.174Z"
   },
   {
    "duration": 0,
    "start_time": "2022-12-29T06:37:06.175Z"
   },
   {
    "duration": 0,
    "start_time": "2022-12-29T06:37:06.177Z"
   },
   {
    "duration": 0,
    "start_time": "2022-12-29T06:37:06.178Z"
   },
   {
    "duration": 0,
    "start_time": "2022-12-29T06:37:06.179Z"
   },
   {
    "duration": 0,
    "start_time": "2022-12-29T06:37:06.180Z"
   },
   {
    "duration": 0,
    "start_time": "2022-12-29T06:37:06.235Z"
   },
   {
    "duration": 0,
    "start_time": "2022-12-29T06:37:06.237Z"
   }
  ],
  "kernelspec": {
   "display_name": "Python 3 (ipykernel)",
   "language": "python",
   "name": "python3"
  },
  "language_info": {
   "codemirror_mode": {
    "name": "ipython",
    "version": 3
   },
   "file_extension": ".py",
   "mimetype": "text/x-python",
   "name": "python",
   "nbconvert_exporter": "python",
   "pygments_lexer": "ipython3",
   "version": "3.9.5"
  },
  "toc": {
   "base_numbering": 1,
   "nav_menu": {},
   "number_sections": true,
   "sideBar": true,
   "skip_h1_title": true,
   "title_cell": "Table of Contents",
   "title_sidebar": "Contents",
   "toc_cell": false,
   "toc_position": {},
   "toc_section_display": true,
   "toc_window_display": false
  }
 },
 "nbformat": 4,
 "nbformat_minor": 2
}
