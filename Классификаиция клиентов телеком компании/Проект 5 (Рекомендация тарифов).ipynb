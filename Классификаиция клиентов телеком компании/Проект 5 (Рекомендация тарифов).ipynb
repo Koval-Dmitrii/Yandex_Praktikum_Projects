{
 "cells": [
  {
   "cell_type": "markdown",
   "metadata": {},
   "source": [
    "<div style=\"border:solid Chocolate 2px; padding: 40px\">\n",
    "\n",
    "Привет Дмитрий меня зовут Саша Атаков. Сегодня я проверю твой проект.\n",
    "<br> Дальнейшее общение будет происходить на \"ты\" если это не вызывает никаких проблем.\n",
    "<br> Желательно реагировать на каждый мой комментарий ('исправил', 'не понятно как исправить ошибку', ...)\n",
    "<br> Пожалуйста, не удаляй комментарии ревьюера, так как они повышают качество повторного ревью.\n",
    "\n",
    "Комментарии будут в <font color='green'>зеленой</font>, <font color='blue'>синей</font> или <font color='red'>красной</font> рамках:\n",
    "\n",
    "<div class=\"alert alert-block alert-success\">\n",
    "<b>Успех👍:</b> Если все сделано отлично\n",
    "</div>\n",
    "\n",
    "<div class=\"alert alert-block alert-info\">\n",
    "<b>Совет🤔: </b> Если можно немного улучшить\n",
    "</div>\n",
    "\n",
    "<div class=\"alert alert-block alert-danger\">\n",
    "<b>Ошибка❌:</b> Если требуются исправления. Работа не может быть принята с красными комментариями.\n",
    "</div>\n",
    "\n",
    "-------------------\n",
    "\n",
    "Будет очень хорошо, если ты будешь помечать свои действия следующим образом:\n",
    "<div class=\"alert alert-block alert-warning\">\n",
    "<b>Комментарий студента:</b> ...\n",
    "</div>\n",
    "\n",
    "<div class=\"alert alert-block alert-warning\">\n",
    "<b>Изменения:</b> Были внесены следующие изменения ...\n",
    "</div>\n",
    "\n",
    "<b><font color='orange'>Вот тебе полезная ссылка, вдруг подчерпнешь что-то новое для себя):</font></b>\n",
    "\n",
    "* О логистической регрессии: https://habr.com/ru/company/io/blog/265007/\n",
    "* Ну и случайный лес: https://alexanderdyakonov.wordpress.com/2016/11/14/%D1%81%D0%BB%D1%83%D1%87%D0%B0%D0%B9%D0%BD%D1%8B%D0%B9-%D0%BB%D0%B5%D1%81-random-forest/\n",
    "* О dummy model - https://scikit-learn.org/stable/modules/generated/sklearn.dummy.DummyClassifier.html\n",
    "* Более подробно о dummy model - https://www.geeksforgeeks.org/ml-dummy-classifiers-using-sklearn/\n",
    "    \n",
    "<b><font color='orange'>Общее впечатление</font></b>\n",
    "* Большое спасибо за проделанную работу. Видно, что ты отлично освоил тему.\n",
    "* Отлично, что ноутбук хорошо структурирован. Приятно проверять такие работы.\n",
    "* В работе я оставил несколько советов. Буду рад, если ты учтешь их.\n",
    "* В конце прописал свой комментарий по всему проекту, ознакомься с ним, пожалуйста)\n",
    "* С радостью отвечу на твои вопросы, касательно выданной тебе темы, если они есть. Жду новую версию проекта.)"
   ]
  },
  {
   "cell_type": "markdown",
   "metadata": {},
   "source": [
    "# Рекомендация тарифов"
   ]
  },
  {
   "cell_type": "markdown",
   "metadata": {},
   "source": [
    "В вашем распоряжении данные о поведении клиентов, которые уже перешли на эти тарифы (из проекта курса «Статистический анализ данных»). Нужно построить модель для задачи классификации, которая выберет подходящий тариф. Предобработка данных не понадобится — вы её уже сделали.\n",
    "\n",
    "Постройте модель с максимально большим значением *accuracy*. Чтобы сдать проект успешно, нужно довести долю правильных ответов по крайней мере до 0.75. Проверьте *accuracy* на тестовой выборке самостоятельно."
   ]
  },
  {
   "cell_type": "markdown",
   "metadata": {},
   "source": [
    "## Откройте и изучите файл"
   ]
  },
  {
   "cell_type": "markdown",
   "metadata": {},
   "source": [
    "### Импортируем необходимые библиотеки и загружаем датасет"
   ]
  },
  {
   "cell_type": "code",
   "execution_count": 3,
   "metadata": {},
   "outputs": [],
   "source": [
    "import pandas as pd\n",
    "import numpy as np\n",
    "import seaborn as sns\n",
    "import matplotlib.pyplot as plt \n",
    "from sklearn.tree import DecisionTreeClassifier\n",
    "from sklearn.ensemble import RandomForestClassifier\n",
    "from sklearn.linear_model import LogisticRegression \n",
    "from sklearn.model_selection import train_test_split\n",
    "from sklearn.metrics import accuracy_score\n",
    "from sklearn.dummy import DummyClassifier\n",
    "from sklearn.neighbors import KNeighborsClassifier"
   ]
  },
  {
   "cell_type": "markdown",
   "metadata": {},
   "source": [
    "<div class=\"alert alert-block alert-success\">\n",
    "<b>Успех👍:</b> \n",
    "    \n",
    "Хороший шаг - импортировать все необходимые библиотеки перед работой с проектом, ведь так ты точно не запутаешься в том, какие библиотеки ты уже импортировал, а какие стоит добавить. Молодец!\n",
    "</div>"
   ]
  },
  {
   "cell_type": "code",
   "execution_count": 4,
   "metadata": {},
   "outputs": [],
   "source": [
    "try:\n",
    "    data = pd.read_csv('/datasets/users_behavior.csv')\n",
    "except:\n",
    "    data = pd.read_csv('https://code.s3.yandex.net/datasets/users_behavior.csv')"
   ]
  },
  {
   "cell_type": "markdown",
   "metadata": {},
   "source": [
    "<div class=\"alert alert-block alert-success\">\n",
    "<b>Успех👍:</b> \n",
    "    \n",
    "Загрузка данных по двум сценариям, удобно)\n",
    "</div>"
   ]
  },
  {
   "cell_type": "markdown",
   "metadata": {},
   "source": [
    "### Выведим первые 20 строк датасета "
   ]
  },
  {
   "cell_type": "code",
   "execution_count": 3,
   "metadata": {},
   "outputs": [
    {
     "data": {
      "text/html": [
       "<div>\n",
       "<style scoped>\n",
       "    .dataframe tbody tr th:only-of-type {\n",
       "        vertical-align: middle;\n",
       "    }\n",
       "\n",
       "    .dataframe tbody tr th {\n",
       "        vertical-align: top;\n",
       "    }\n",
       "\n",
       "    .dataframe thead th {\n",
       "        text-align: right;\n",
       "    }\n",
       "</style>\n",
       "<table border=\"1\" class=\"dataframe\">\n",
       "  <thead>\n",
       "    <tr style=\"text-align: right;\">\n",
       "      <th></th>\n",
       "      <th>calls</th>\n",
       "      <th>minutes</th>\n",
       "      <th>messages</th>\n",
       "      <th>mb_used</th>\n",
       "      <th>is_ultra</th>\n",
       "    </tr>\n",
       "  </thead>\n",
       "  <tbody>\n",
       "    <tr>\n",
       "      <th>0</th>\n",
       "      <td>40.0</td>\n",
       "      <td>311.90</td>\n",
       "      <td>83.0</td>\n",
       "      <td>19915.42</td>\n",
       "      <td>0</td>\n",
       "    </tr>\n",
       "    <tr>\n",
       "      <th>1</th>\n",
       "      <td>85.0</td>\n",
       "      <td>516.75</td>\n",
       "      <td>56.0</td>\n",
       "      <td>22696.96</td>\n",
       "      <td>0</td>\n",
       "    </tr>\n",
       "    <tr>\n",
       "      <th>2</th>\n",
       "      <td>77.0</td>\n",
       "      <td>467.66</td>\n",
       "      <td>86.0</td>\n",
       "      <td>21060.45</td>\n",
       "      <td>0</td>\n",
       "    </tr>\n",
       "    <tr>\n",
       "      <th>3</th>\n",
       "      <td>106.0</td>\n",
       "      <td>745.53</td>\n",
       "      <td>81.0</td>\n",
       "      <td>8437.39</td>\n",
       "      <td>1</td>\n",
       "    </tr>\n",
       "    <tr>\n",
       "      <th>4</th>\n",
       "      <td>66.0</td>\n",
       "      <td>418.74</td>\n",
       "      <td>1.0</td>\n",
       "      <td>14502.75</td>\n",
       "      <td>0</td>\n",
       "    </tr>\n",
       "    <tr>\n",
       "      <th>5</th>\n",
       "      <td>58.0</td>\n",
       "      <td>344.56</td>\n",
       "      <td>21.0</td>\n",
       "      <td>15823.37</td>\n",
       "      <td>0</td>\n",
       "    </tr>\n",
       "    <tr>\n",
       "      <th>6</th>\n",
       "      <td>57.0</td>\n",
       "      <td>431.64</td>\n",
       "      <td>20.0</td>\n",
       "      <td>3738.90</td>\n",
       "      <td>1</td>\n",
       "    </tr>\n",
       "    <tr>\n",
       "      <th>7</th>\n",
       "      <td>15.0</td>\n",
       "      <td>132.40</td>\n",
       "      <td>6.0</td>\n",
       "      <td>21911.60</td>\n",
       "      <td>0</td>\n",
       "    </tr>\n",
       "    <tr>\n",
       "      <th>8</th>\n",
       "      <td>7.0</td>\n",
       "      <td>43.39</td>\n",
       "      <td>3.0</td>\n",
       "      <td>2538.67</td>\n",
       "      <td>1</td>\n",
       "    </tr>\n",
       "    <tr>\n",
       "      <th>9</th>\n",
       "      <td>90.0</td>\n",
       "      <td>665.41</td>\n",
       "      <td>38.0</td>\n",
       "      <td>17358.61</td>\n",
       "      <td>0</td>\n",
       "    </tr>\n",
       "    <tr>\n",
       "      <th>10</th>\n",
       "      <td>82.0</td>\n",
       "      <td>560.51</td>\n",
       "      <td>20.0</td>\n",
       "      <td>9619.53</td>\n",
       "      <td>1</td>\n",
       "    </tr>\n",
       "    <tr>\n",
       "      <th>11</th>\n",
       "      <td>45.0</td>\n",
       "      <td>344.32</td>\n",
       "      <td>13.0</td>\n",
       "      <td>19898.81</td>\n",
       "      <td>0</td>\n",
       "    </tr>\n",
       "    <tr>\n",
       "      <th>12</th>\n",
       "      <td>51.0</td>\n",
       "      <td>437.13</td>\n",
       "      <td>61.0</td>\n",
       "      <td>21523.58</td>\n",
       "      <td>0</td>\n",
       "    </tr>\n",
       "    <tr>\n",
       "      <th>13</th>\n",
       "      <td>56.0</td>\n",
       "      <td>433.07</td>\n",
       "      <td>16.0</td>\n",
       "      <td>16702.36</td>\n",
       "      <td>0</td>\n",
       "    </tr>\n",
       "    <tr>\n",
       "      <th>14</th>\n",
       "      <td>108.0</td>\n",
       "      <td>587.90</td>\n",
       "      <td>0.0</td>\n",
       "      <td>14406.50</td>\n",
       "      <td>1</td>\n",
       "    </tr>\n",
       "    <tr>\n",
       "      <th>15</th>\n",
       "      <td>6.0</td>\n",
       "      <td>22.13</td>\n",
       "      <td>0.0</td>\n",
       "      <td>2710.09</td>\n",
       "      <td>0</td>\n",
       "    </tr>\n",
       "    <tr>\n",
       "      <th>16</th>\n",
       "      <td>2.0</td>\n",
       "      <td>18.73</td>\n",
       "      <td>0.0</td>\n",
       "      <td>588.89</td>\n",
       "      <td>0</td>\n",
       "    </tr>\n",
       "    <tr>\n",
       "      <th>17</th>\n",
       "      <td>26.0</td>\n",
       "      <td>163.62</td>\n",
       "      <td>4.0</td>\n",
       "      <td>16870.34</td>\n",
       "      <td>0</td>\n",
       "    </tr>\n",
       "    <tr>\n",
       "      <th>18</th>\n",
       "      <td>79.0</td>\n",
       "      <td>532.62</td>\n",
       "      <td>90.0</td>\n",
       "      <td>19908.31</td>\n",
       "      <td>0</td>\n",
       "    </tr>\n",
       "    <tr>\n",
       "      <th>19</th>\n",
       "      <td>49.0</td>\n",
       "      <td>341.67</td>\n",
       "      <td>81.0</td>\n",
       "      <td>11770.28</td>\n",
       "      <td>1</td>\n",
       "    </tr>\n",
       "  </tbody>\n",
       "</table>\n",
       "</div>"
      ],
      "text/plain": [
       "    calls  minutes  messages   mb_used  is_ultra\n",
       "0    40.0   311.90      83.0  19915.42         0\n",
       "1    85.0   516.75      56.0  22696.96         0\n",
       "2    77.0   467.66      86.0  21060.45         0\n",
       "3   106.0   745.53      81.0   8437.39         1\n",
       "4    66.0   418.74       1.0  14502.75         0\n",
       "5    58.0   344.56      21.0  15823.37         0\n",
       "6    57.0   431.64      20.0   3738.90         1\n",
       "7    15.0   132.40       6.0  21911.60         0\n",
       "8     7.0    43.39       3.0   2538.67         1\n",
       "9    90.0   665.41      38.0  17358.61         0\n",
       "10   82.0   560.51      20.0   9619.53         1\n",
       "11   45.0   344.32      13.0  19898.81         0\n",
       "12   51.0   437.13      61.0  21523.58         0\n",
       "13   56.0   433.07      16.0  16702.36         0\n",
       "14  108.0   587.90       0.0  14406.50         1\n",
       "15    6.0    22.13       0.0   2710.09         0\n",
       "16    2.0    18.73       0.0    588.89         0\n",
       "17   26.0   163.62       4.0  16870.34         0\n",
       "18   79.0   532.62      90.0  19908.31         0\n",
       "19   49.0   341.67      81.0  11770.28         1"
      ]
     },
     "execution_count": 3,
     "metadata": {},
     "output_type": "execute_result"
    }
   ],
   "source": [
    "data.head(20)"
   ]
  },
  {
   "cell_type": "markdown",
   "metadata": {},
   "source": [
    "### Выведим общую информацию про датасет"
   ]
  },
  {
   "cell_type": "code",
   "execution_count": 4,
   "metadata": {},
   "outputs": [
    {
     "name": "stdout",
     "output_type": "stream",
     "text": [
      "<class 'pandas.core.frame.DataFrame'>\n",
      "RangeIndex: 3214 entries, 0 to 3213\n",
      "Data columns (total 5 columns):\n",
      " #   Column    Non-Null Count  Dtype  \n",
      "---  ------    --------------  -----  \n",
      " 0   calls     3214 non-null   float64\n",
      " 1   minutes   3214 non-null   float64\n",
      " 2   messages  3214 non-null   float64\n",
      " 3   mb_used   3214 non-null   float64\n",
      " 4   is_ultra  3214 non-null   int64  \n",
      "dtypes: float64(4), int64(1)\n",
      "memory usage: 125.7 KB\n"
     ]
    }
   ],
   "source": [
    "data.info()"
   ]
  },
  {
   "cell_type": "markdown",
   "metadata": {},
   "source": [
    "###  Посмотрим на статистическую информацию по столбцам"
   ]
  },
  {
   "cell_type": "code",
   "execution_count": 5,
   "metadata": {
    "scrolled": true
   },
   "outputs": [
    {
     "data": {
      "text/html": [
       "<div>\n",
       "<style scoped>\n",
       "    .dataframe tbody tr th:only-of-type {\n",
       "        vertical-align: middle;\n",
       "    }\n",
       "\n",
       "    .dataframe tbody tr th {\n",
       "        vertical-align: top;\n",
       "    }\n",
       "\n",
       "    .dataframe thead th {\n",
       "        text-align: right;\n",
       "    }\n",
       "</style>\n",
       "<table border=\"1\" class=\"dataframe\">\n",
       "  <thead>\n",
       "    <tr style=\"text-align: right;\">\n",
       "      <th></th>\n",
       "      <th>calls</th>\n",
       "      <th>minutes</th>\n",
       "      <th>messages</th>\n",
       "      <th>mb_used</th>\n",
       "      <th>is_ultra</th>\n",
       "    </tr>\n",
       "  </thead>\n",
       "  <tbody>\n",
       "    <tr>\n",
       "      <th>count</th>\n",
       "      <td>3214.000000</td>\n",
       "      <td>3214.000000</td>\n",
       "      <td>3214.000000</td>\n",
       "      <td>3214.000000</td>\n",
       "      <td>3214.000000</td>\n",
       "    </tr>\n",
       "    <tr>\n",
       "      <th>mean</th>\n",
       "      <td>63.038892</td>\n",
       "      <td>438.208787</td>\n",
       "      <td>38.281269</td>\n",
       "      <td>17207.673836</td>\n",
       "      <td>0.306472</td>\n",
       "    </tr>\n",
       "    <tr>\n",
       "      <th>std</th>\n",
       "      <td>33.236368</td>\n",
       "      <td>234.569872</td>\n",
       "      <td>36.148326</td>\n",
       "      <td>7570.968246</td>\n",
       "      <td>0.461100</td>\n",
       "    </tr>\n",
       "    <tr>\n",
       "      <th>min</th>\n",
       "      <td>0.000000</td>\n",
       "      <td>0.000000</td>\n",
       "      <td>0.000000</td>\n",
       "      <td>0.000000</td>\n",
       "      <td>0.000000</td>\n",
       "    </tr>\n",
       "    <tr>\n",
       "      <th>25%</th>\n",
       "      <td>40.000000</td>\n",
       "      <td>274.575000</td>\n",
       "      <td>9.000000</td>\n",
       "      <td>12491.902500</td>\n",
       "      <td>0.000000</td>\n",
       "    </tr>\n",
       "    <tr>\n",
       "      <th>50%</th>\n",
       "      <td>62.000000</td>\n",
       "      <td>430.600000</td>\n",
       "      <td>30.000000</td>\n",
       "      <td>16943.235000</td>\n",
       "      <td>0.000000</td>\n",
       "    </tr>\n",
       "    <tr>\n",
       "      <th>75%</th>\n",
       "      <td>82.000000</td>\n",
       "      <td>571.927500</td>\n",
       "      <td>57.000000</td>\n",
       "      <td>21424.700000</td>\n",
       "      <td>1.000000</td>\n",
       "    </tr>\n",
       "    <tr>\n",
       "      <th>max</th>\n",
       "      <td>244.000000</td>\n",
       "      <td>1632.060000</td>\n",
       "      <td>224.000000</td>\n",
       "      <td>49745.730000</td>\n",
       "      <td>1.000000</td>\n",
       "    </tr>\n",
       "  </tbody>\n",
       "</table>\n",
       "</div>"
      ],
      "text/plain": [
       "             calls      minutes     messages       mb_used     is_ultra\n",
       "count  3214.000000  3214.000000  3214.000000   3214.000000  3214.000000\n",
       "mean     63.038892   438.208787    38.281269  17207.673836     0.306472\n",
       "std      33.236368   234.569872    36.148326   7570.968246     0.461100\n",
       "min       0.000000     0.000000     0.000000      0.000000     0.000000\n",
       "25%      40.000000   274.575000     9.000000  12491.902500     0.000000\n",
       "50%      62.000000   430.600000    30.000000  16943.235000     0.000000\n",
       "75%      82.000000   571.927500    57.000000  21424.700000     1.000000\n",
       "max     244.000000  1632.060000   224.000000  49745.730000     1.000000"
      ]
     },
     "execution_count": 5,
     "metadata": {},
     "output_type": "execute_result"
    }
   ],
   "source": [
    "data.describe()"
   ]
  },
  {
   "cell_type": "markdown",
   "metadata": {},
   "source": [
    "### Изменим типы данных"
   ]
  },
  {
   "cell_type": "code",
   "execution_count": 6,
   "metadata": {},
   "outputs": [],
   "source": [
    "data['calls'] = data['calls'].astype('int')\n",
    "data['messages'] = data['messages'].astype('int')"
   ]
  },
  {
   "cell_type": "markdown",
   "metadata": {},
   "source": [
    "**Вывод** <br>\n",
    "Видем, что в данных нету пропусков, данных довольно много, нету аномальных значений. Так же мы изменили типы данных в некоторых столбцах на более подходящие, а значит, можно переходить к исследованию"
   ]
  },
  {
   "cell_type": "markdown",
   "metadata": {},
   "source": [
    "<div class=\"alert alert-block alert-success\">\n",
    "<b>Успех👍:</b> \n",
    "    \n",
    "Да, абсолютно верно, данные готовы к работе. Единственное что я бы добавил еще - можно типы данных для float, которые по своему виду не похожи на float перевести в int\n",
    "</div>"
   ]
  },
  {
   "cell_type": "markdown",
   "metadata": {},
   "source": [
    "<div class=\"alert alert-block alert-warning\">\n",
    "<b>Изменения:</b> Добавил изменение типов и немного поменял вывод\n",
    "</div>"
   ]
  },
  {
   "cell_type": "markdown",
   "metadata": {},
   "source": [
    "<div class=\"alert alert-block alert-success\">\n",
    "<b>Успех👍 V2:</b> \n",
    "    \n",
    "Круто, молодец!\n",
    "</div>"
   ]
  },
  {
   "cell_type": "markdown",
   "metadata": {},
   "source": [
    "## Разбейте данные на выборки"
   ]
  },
  {
   "cell_type": "markdown",
   "metadata": {},
   "source": [
    "### Разделим данные на обучающую, валидационную и тестовую выборки в соотношении 3:1:1"
   ]
  },
  {
   "cell_type": "code",
   "execution_count": 5,
   "metadata": {},
   "outputs": [],
   "source": [
    "data_train, data_check = train_test_split(data, test_size=0.4, random_state=12345)\n",
    "data_valid, data_test = train_test_split(data_check, test_size=0.5, random_state=12345)"
   ]
  },
  {
   "cell_type": "markdown",
   "metadata": {},
   "source": [
    "<div class=\"alert alert-block alert-success\">\n",
    "<b>Успех👍:</b> \n",
    "    \n",
    "Вот это мне нравится, разделение на три выборки, молодец! Также прописал грамотный вывод по задаче, так держать!\n",
    "</div>\n",
    "\n",
    "<div class=\"alert alert-block alert-info\">\n",
    "<b>Совет🤔:</b> \n",
    "\n",
    "Слушай, можно сделать разбиение 80/10/10, обычно я так делаю, но тут видно, что данных маловато, так что для начала и 60/20/20 пойдет). А так, это не догма и в будущих проектах ты сможешь убедиться в этом)\n",
    "</div>"
   ]
  },
  {
   "cell_type": "markdown",
   "metadata": {},
   "source": [
    "<div class=\"alert alert-block alert-warning\">\n",
    "<b>Комментарий студента:</b> Спасибо за совет\n",
    "</div>"
   ]
  },
  {
   "cell_type": "markdown",
   "metadata": {},
   "source": [
    "### Разделим данные по признакам и целевому признаку"
   ]
  },
  {
   "cell_type": "code",
   "execution_count": 6,
   "metadata": {},
   "outputs": [],
   "source": [
    "features_train = data_train.drop(['is_ultra'], axis=1)\n",
    "target_train = data_train['is_ultra']\n",
    "\n",
    "features_valid = data_valid.drop(['is_ultra'], axis=1)\n",
    "target_valid = data_valid['is_ultra']\n",
    "\n",
    "features_test = data_test.drop(['is_ultra'], axis=1)\n",
    "target_test = data_test['is_ultra']"
   ]
  },
  {
   "cell_type": "code",
   "execution_count": 7,
   "metadata": {},
   "outputs": [
    {
     "data": {
      "text/plain": [
       "3027    0\n",
       "434     0\n",
       "1226    0\n",
       "1054    0\n",
       "1842    0\n",
       "       ..\n",
       "2817    1\n",
       "546     1\n",
       "382     1\n",
       "2177    1\n",
       "482     1\n",
       "Name: is_ultra, Length: 1928, dtype: int64"
      ]
     },
     "execution_count": 7,
     "metadata": {},
     "output_type": "execute_result"
    }
   ],
   "source": [
    "target_train"
   ]
  },
  {
   "cell_type": "markdown",
   "metadata": {},
   "source": [
    "**Вывод** <br>\n",
    "Разбили данные на обучающую, валидационную и тестовую выборки в соотношении 3:1:1. Раделили данные по признакам и целевому признаку"
   ]
  },
  {
   "cell_type": "markdown",
   "metadata": {},
   "source": [
    "<div class=\"alert alert-block alert-success\">\n",
    "<b>Успех👍:</b> \n",
    "    \n",
    "Признаки и таргеты ты подготовил, пошли дальше\n",
    "</div>"
   ]
  },
  {
   "cell_type": "markdown",
   "metadata": {},
   "source": [
    "## Исследуйте модели"
   ]
  },
  {
   "cell_type": "markdown",
   "metadata": {},
   "source": [
    "### Модель \"Решающее дерево\""
   ]
  },
  {
   "cell_type": "markdown",
   "metadata": {},
   "source": [
    "Исследуем модель \"Решающее дерево\". С помощью цикла будем менять гиперпараметр max_depth от 1 до 10, и посмотрим в каком случае будет лучший показатель accuracy"
   ]
  },
  {
   "cell_type": "code",
   "execution_count": 9,
   "metadata": {},
   "outputs": [
    {
     "name": "stdout",
     "output_type": "stream",
     "text": [
      "Accuracy наилучшей модели на валидационной выборке: 0.7853810264385692, при max_depth = 3, при criterion = entropy\n"
     ]
    }
   ],
   "source": [
    "best_model_tree = None\n",
    "best_result_tree = 0\n",
    "best_depth_tree = 0\n",
    "best_criterion = None\n",
    "\n",
    "criterions = {'gini', 'entropy'}\n",
    "\n",
    "for crit in criterions:\n",
    "    for depth in range(1, 11):\n",
    "        model_tree = DecisionTreeClassifier(random_state=12345, max_depth=depth, criterion=crit) \n",
    "        model_tree.fit(features_train, target_train) \n",
    "        predictions = model_tree.predict(features_valid) \n",
    "        result = accuracy_score(target_valid, predictions) \n",
    "        if result > best_result_tree:\n",
    "            best_model_tree = model_tree\n",
    "            best_result_tree = result\n",
    "            best_depth_tree = depth\n",
    "            best_criterion = crit\n",
    "        \n",
    "print(f'Accuracy наилучшей модели на валидационной выборке: {best_result_tree}, при max_depth = {best_depth_tree}, \\\n",
    "при criterion = {best_criterion}') "
   ]
  },
  {
   "cell_type": "markdown",
   "metadata": {},
   "source": [
    "<div class=\"alert alert-block alert-success\">\n",
    "<b>Успех👍:</b> \n",
    "    \n",
    "Да, дерево хорошо обучилось)\n",
    "</div>\n",
    "\n",
    "<div class=\"alert alert-block alert-info\">\n",
    "<b>Совет🤔:</b> \n",
    "\n",
    "Тут можно еще проверить гиперпараметр - атрибут разбиения (criterion), так как она осуществляет важную функцию - при обучении множества в узле, данный атрибут следит за тем, чтобы в этих множествах было меньше дисбаланса классов значений, к которым мы и предсказываем что-либо. Ну это так, на подумать, может в будущем ты захочешь его применить)\n",
    "</div>"
   ]
  },
  {
   "cell_type": "markdown",
   "metadata": {},
   "source": [
    "<div class=\"alert alert-block alert-warning\">\n",
    "<b>Изменения:</b> Проверил гиперпараметр атрибут разбиения\n",
    "</div>\n",
    "\n",
    "<div class=\"alert alert-block alert-warning\">\n",
    "<b>Комментарий студента:</b> Я нашёл, что ещё бывает вариант этого атрибута - \"log_loss\", однако если я его добавлял, появлялась ошибка. Подскажите пожалуйста, почему?\n",
    "</div>"
   ]
  },
  {
   "cell_type": "markdown",
   "metadata": {},
   "source": [
    "<div class=\"alert alert-block alert-info\">\n",
    "<b>Совет🤔 V2:</b> \n",
    "\n",
    "Смотрим, чтобы вычислить log_loss, тебе нужно знать вероятности прогнозов твоей модели (с помощью параметра predict_proba). Если ты предоставляешь только прогнозируемые классы (классы с максимальной вероятностью), эта метрика не может быть вычислена.\n",
    "    \n",
    "Например вот так ничего работать не будет: log_loss(lg_y_test, lg_y_predictions)\n",
    "</div>"
   ]
  },
  {
   "cell_type": "markdown",
   "metadata": {},
   "source": [
    "### Модель \"Случайный лес\""
   ]
  },
  {
   "cell_type": "markdown",
   "metadata": {},
   "source": [
    "Исследуем модель \"Случайный лес\". С помощью цикла будем менять гиперпараметр max_depth от 1 до 10, и гиперпараметр n_estimators от 1 до 15. Найдём лучшие значения этих гиперпараметров и выведим лучшее accuracy"
   ]
  },
  {
   "cell_type": "code",
   "execution_count": 10,
   "metadata": {},
   "outputs": [
    {
     "name": "stdout",
     "output_type": "stream",
     "text": [
      "Accuracy наилучшей модели на валидационной выборке: 0.8087091757387247, при max_depth = 3, при n_estimators = 40, при criterion = gini\n"
     ]
    }
   ],
   "source": [
    "best_model_forest = None\n",
    "best_result_forest = 0\n",
    "best_depth_forest = 0\n",
    "best_n_estimators_forest = 0\n",
    "best_criterion = None\n",
    "\n",
    "criterions = {'gini', 'entropy'}\n",
    "\n",
    "for crit in criterions:\n",
    "    for depth in range(1, 11):\n",
    "        for est in range(1, 51):\n",
    "            model_forest = RandomForestClassifier(random_state=12345, max_depth = depth, n_estimators=est, criterion=crit) \n",
    "            model_forest.fit(features_train, target_train) \n",
    "            result = model_forest.score(features_valid, target_valid) \n",
    "            if result > best_result_forest:\n",
    "                best_model_forest = model_forest\n",
    "                best_result_forest = result\n",
    "                best_depth_forest = depth\n",
    "                best_n_estimators_forest = est\n",
    "                best_criterion = crit\n",
    "\n",
    "print(f'Accuracy наилучшей модели на валидационной выборке: {best_result_forest}, при max_depth = {best_depth_tree}, \\\n",
    "при n_estimators = {best_n_estimators_forest}, при criterion = {best_criterion}') "
   ]
  },
  {
   "cell_type": "markdown",
   "metadata": {},
   "source": [
    "<div class=\"alert alert-block alert-success\">\n",
    "<b>Успех👍:</b> \n",
    "    \n",
    "Лес тоже сформирован и дал лучший результат (на данный момент), отлично\n",
    "</div>\n",
    "\n",
    "<div class=\"alert alert-block alert-info\">\n",
    "<b>Совет🤔:</b> \n",
    "\n",
    "Деревьев стоит выбрать побольше, так как именно от этого параметра зависит качество предсказания нашей модели, ведь лес - это множество моделей дерева, где учитывается каждое дерево, дающее свой результат. Попробуй выбрать значения побольше и шаг тоже добавь\n",
    "    \n",
    "А так можно еще взять гиперпараметр дерева - атрибут разбиения, о котором я выше говорил\n",
    "</div>"
   ]
  },
  {
   "cell_type": "markdown",
   "metadata": {},
   "source": [
    "<div class=\"alert alert-block alert-warning\">\n",
    "<b>Изменения:</b> Увеличил количество деревьеев с 15 до 50. Добавил гиперпараметр атрибут разбиения. \n",
    "</div>\n",
    "\n",
    "<div class=\"alert alert-block alert-warning\">\n",
    "<b>Комментарий студента:</b> Больше увеличивать количество деревьев не стал, т.к. загрузка бы стала слишком долгой, при этом точность увеличивается лишь на несколько сотых, что, как мне кажется, в данном случае не очень важно. А вот про шаг немного не понял, можете пожалуйста объяснить?\n",
    "</div>"
   ]
  },
  {
   "cell_type": "markdown",
   "metadata": {},
   "source": [
    "<div class=\"alert alert-block alert-success\">\n",
    "<b>Успех👍 V2:</b> \n",
    "    \n",
    "Смотри, шаг это то, через сколько значений твоя модель или функция итп будет переходить к следующему значению: for est in range(1, 51, 10) - третье значение будет являться шагом, который будет говорить нашей функции чтобы после 1, мы брали 1+10 значение, потом еще больше на 10 итп. Вот так вот\n",
    "</div>"
   ]
  },
  {
   "cell_type": "markdown",
   "metadata": {},
   "source": [
    "### Модель \"Логистическая регрессия\""
   ]
  },
  {
   "cell_type": "markdown",
   "metadata": {},
   "source": [
    "Исследуем модель \"Логическая регрессия\". Здесь нету гиперпараметров, которые бы влияли на результат."
   ]
  },
  {
   "cell_type": "code",
   "execution_count": 11,
   "metadata": {},
   "outputs": [
    {
     "name": "stdout",
     "output_type": "stream",
     "text": [
      "Accuracy модели на валидационной выборке: 0.7573872472783826, при solver = liblinear, при c = 5\n"
     ]
    }
   ],
   "source": [
    "best_model_lr = None\n",
    "best_result_lr = 0\n",
    "best_solver = None\n",
    "best_c = 0\n",
    "\n",
    "solvers = {'liblinear', 'lbfgs'}\n",
    "\n",
    "for c in range(1, 11):\n",
    "    for sol in solvers:\n",
    "        model_lr = LogisticRegression(random_state=12345, solver=sol, C=c)\n",
    "        model_lr.fit(features_train, target_train)\n",
    "        result = model_lr.score(features_valid, target_valid)\n",
    "        if result > best_result_lr:\n",
    "                    best_model_lr = model_lr\n",
    "                    best_result_lr = result \n",
    "                    best_solver = sol\n",
    "                    best_c = c\n",
    "                \n",
    "\n",
    "print(f'Accuracy модели на валидационной выборке: {best_result_lr}, при solver = {best_solver}, при c = {best_c}')"
   ]
  },
  {
   "cell_type": "markdown",
   "metadata": {},
   "source": [
    "<div class=\"alert alert-block alert-success\">\n",
    "<b>Успех👍:</b> \n",
    "    \n",
    "Эх, логистическая регрессия показала не самый лучший результат. Возможно проблема в данных\n",
    "</div>\n",
    "\n",
    "<div class=\"alert alert-block alert-info\">\n",
    "<b>Совет🤔:</b> \n",
    "\n",
    "К сожалению я не увидел здесь перебор гиперпараметров, а у логистической регрессии есть очень хорошие гиперпараметры, меняя которые можно немного поднять качество: сила регуляризации и веса признаков. Попробуй поизучать данные гиперпараметры и перебрать их) \n",
    "    \n",
    "Если качество не улучшится, не стоит огорчаться, у нас данных очень мало\n",
    "</div>"
   ]
  },
  {
   "cell_type": "markdown",
   "metadata": {},
   "source": [
    "<div class=\"alert alert-block alert-warning\">\n",
    "<b>Изменения:</b> Добавил гиперпараметры solver и C.\n",
    "</div>\n",
    "\n",
    "<div class=\"alert alert-block alert-warning\">\n",
    "<b>Комментарий студента:</b> Другие гиперпараметры не добовлял либо потому что не понял, как они работают, либо потому что результат не менялся или менялся в худшую сторону. При этом, удалось увеличить результат - с 0.71 до 0.757, то есть практически на 5%.  \n",
    "</div>"
   ]
  },
  {
   "cell_type": "markdown",
   "metadata": {},
   "source": [
    "<div class=\"alert alert-block alert-success\">\n",
    "<b>Успех👍 V2:</b> \n",
    "    \n",
    "Ну как раз самый классный гиперпараметр - сила регуляризации. Меняя лишь данное значение, мы можем улучшить качество нашей модели на порядок\n",
    "</div>"
   ]
  },
  {
   "cell_type": "markdown",
   "metadata": {},
   "source": [
    "**Вывод** <br>\n",
    "- Лучше всего на валидационной выборке себя показала модель \"Случайный лес\". У неё получился наилучший показатель accuracy - 0.8. \n",
    "- На втором месте оказалась модель \"Решающее дерево\" с показателем accuracy - 0.76. \n",
    "- Ну и хуже всех себя проявила модель \"Логистическая регрессия\" с показателем accuracy - 0.75."
   ]
  },
  {
   "cell_type": "markdown",
   "metadata": {},
   "source": [
    "<div class=\"alert alert-block alert-success\">\n",
    "<b>Успех👍:</b> \n",
    "    \n",
    "Да, все верно, случайный лес явный победитель, это круто. Пойдем же проверим ее на тестовых данных\n",
    "</div>"
   ]
  },
  {
   "cell_type": "markdown",
   "metadata": {},
   "source": [
    "<div class=\"alert alert-block alert-warning\">\n",
    "<b>Изменения:</b> Немного изменил вывод с учётом изменений в предыдущих заданиях\n",
    "</div>"
   ]
  },
  {
   "cell_type": "markdown",
   "metadata": {},
   "source": [
    "<div class=\"alert alert-block alert-success\">\n",
    "<b>Успех👍 V2:</b> \n",
    "    \n",
    "Понял, принял\n",
    "</div>"
   ]
  },
  {
   "cell_type": "markdown",
   "metadata": {},
   "source": [
    "## Проверьте модель на тестовой выборке"
   ]
  },
  {
   "cell_type": "code",
   "execution_count": 12,
   "metadata": {},
   "outputs": [
    {
     "name": "stdout",
     "output_type": "stream",
     "text": [
      "Accurancy модели \"Случайный лес\" на тестовой выборке: 0.7962674961119751\n"
     ]
    }
   ],
   "source": [
    "test_result = best_model_forest.score(features_test, target_test)\n",
    "\n",
    "print(f'Accurancy модели \"Случайный лес\" на тестовой выборке: {test_result}')"
   ]
  },
  {
   "cell_type": "markdown",
   "metadata": {},
   "source": [
    "**Вывод** <br>\n",
    "Точность лучшей модели \"Случайный лес\" на тестовой выборке составила 0.796, что является довольно хорошим результатом"
   ]
  },
  {
   "cell_type": "markdown",
   "metadata": {},
   "source": [
    "<div class=\"alert alert-block alert-success\">\n",
    "<b>Успех👍:</b> \n",
    "    \n",
    "Отлично, на тестовых данных результат хороший, задача выполнена, молодец)\n",
    "</div>"
   ]
  },
  {
   "cell_type": "markdown",
   "metadata": {},
   "source": [
    "## (бонус) Проверьте модели на адекватность"
   ]
  },
  {
   "cell_type": "markdown",
   "metadata": {},
   "source": [
    "### Первый способ"
   ]
  },
  {
   "cell_type": "markdown",
   "metadata": {},
   "source": [
    "Чтобы оценить вменяемость нашей модели, сравним её результат со случайными предсказаниями. "
   ]
  },
  {
   "cell_type": "code",
   "execution_count": 13,
   "metadata": {},
   "outputs": [
    {
     "data": {
      "text/plain": [
       "0.49611197511664074"
      ]
     },
     "execution_count": 13,
     "metadata": {},
     "output_type": "execute_result"
    }
   ],
   "source": [
    "random_answers = np.random.randint(0, 2, size=643)\n",
    "\n",
    "accuracy_random_test = accuracy_score(target_test, random_answers)\n",
    "accuracy_random_test"
   ]
  },
  {
   "cell_type": "markdown",
   "metadata": {},
   "source": [
    "**Вывод** <br>\n",
    "Как мы видим, случайные предсказания имеют показатель схожести с тестовой выборкой около 0.5, значит наша модель, имеющая результат около 0.8, вполне точная, а значит адекватная"
   ]
  },
  {
   "cell_type": "markdown",
   "metadata": {},
   "source": [
    "<div class=\"alert alert-block alert-success\">\n",
    "<b>Успех👍:</b> \n",
    "    \n",
    "И мы видим, что случайные предсказания дают лишь 50% качества, в то время как наша лучшая модель дала 79%. Это значит, что наша модель адекватна\n",
    "</div>\n",
    "\n",
    "<div class=\"alert alert-block alert-info\">\n",
    "<b>Совет🤔:</b> \n",
    "    \n",
    "На самом деле ты можешь использовать другой алгоритм для проверки адекватности на своих данных, например, Dummy Models для более удобной и функциональной проверки. Можешь почитать на досуге\n",
    "    \n",
    "Также хотелось бы увидеть в конце итоговый вывод о том, что ты сделал на протяжении всего проекта - краткий экскурс скажем так. Добавь его, если есть время\n",
    "</div>"
   ]
  },
  {
   "cell_type": "markdown",
   "metadata": {},
   "source": [
    "### Второй способ (Dummy Models)"
   ]
  },
  {
   "cell_type": "code",
   "execution_count": 29,
   "metadata": {},
   "outputs": [
    {
     "name": "stdout",
     "output_type": "stream",
     "text": [
      "При strategy = most_frequent, score = 0.6842923794712286\n",
      "При strategy = stratified, score = 0.536547433903577\n",
      "При strategy = uniform, score = 0.4821150855365474\n",
      "При strategy = constant, score = 0.3157076205287714\n"
     ]
    }
   ],
   "source": [
    "strategies = ['most_frequent', 'stratified', 'uniform', 'constant']\n",
    "  \n",
    "test_scores = []\n",
    "\n",
    "for s in strategies:\n",
    "    if s =='constant':\n",
    "        dclf = DummyClassifier(strategy = s, random_state = 12345, constant=1)\n",
    "    else:\n",
    "        dclf = DummyClassifier(strategy = s, random_state = 12345)\n",
    "    dclf.fit(features_train, target_train)\n",
    "    score = dclf.score(features_test, target_test)\n",
    "    test_scores.append(score)\n",
    "\n",
    "print(f'При strategy = {strategies[0]}, score = {test_scores[0]}')\n",
    "print(f'При strategy = {strategies[1]}, score = {test_scores[1]}')\n",
    "print(f'При strategy = {strategies[2]}, score = {test_scores[2]}')\n",
    "print(f'При strategy = {strategies[3]}, score = {test_scores[3]}')"
   ]
  },
  {
   "cell_type": "markdown",
   "metadata": {},
   "source": [
    "<div class=\"alert alert-block alert-warning\">\n",
    "<b>Изменения:</b> Вроде добавил способ Dummy Models\n",
    "</div>\n",
    "\n",
    "<div class=\"alert alert-block alert-warning\">\n",
    "<b>Комментарий студента:</b> Не до конца разобрался, как именно работает метод. Но, как я понял, надо сравнить эти значения с полученным значением нашей модели и если они меньше, то наше модель адекватная\n",
    "</div"
   ]
  },
  {
   "cell_type": "markdown",
   "metadata": {},
   "source": [
    "<div class=\"alert alert-block alert-success\">\n",
    "<b>Успех👍 V2:</b> \n",
    "    \n",
    "Верно, ты правильно понял. Однако смотри, как работает dummy model - он берет дисбаланс значений в датасете, и берет количество вероятных ответов на 1 или 0 (в случае задач бинарной классификации). например если у нас уровень значений 1 и 0 равен 70 к 30, то среднее значение ответов 1 равно 70%, то есть уровень адекватности - 70%. Если модель переходит данный рубеж, то она адекватна, ниже - значит есть проблемы в качестве данной модели. Вот так вот! \n",
    "</div>"
   ]
  },
  {
   "cell_type": "markdown",
   "metadata": {},
   "source": [
    "## Вывод"
   ]
  },
  {
   "cell_type": "markdown",
   "metadata": {},
   "source": [
    "**В ходе исследования было сделано:** <br>\n",
    "1. Ознакомились с данными, посмотрели на общую информацию, поменяли типы данных в некоторых столбцах\n",
    "2. Разделили данные на обучающую, валидационную и тестовую выборки\n",
    "3. Разделили данные на признаки и таргеты\n",
    "4. Исследовали модель \"Решающее дерево\"\n",
    "5. Исследовали модель \"Случайный лес\"\n",
    "6. Исследовали модель \"Логистическая регрессия\"\n",
    "7. Проверили лучшию модель \"Случайный лес\" на тестовой выборке\n",
    "8. Проверили модель на адекватность"
   ]
  },
  {
   "cell_type": "markdown",
   "metadata": {},
   "source": [
    "<div class=\"alert alert-block alert-warning\">\n",
    "<b>Изменения:</b> Добавил вывод\n",
    "</div>"
   ]
  },
  {
   "cell_type": "markdown",
   "metadata": {},
   "source": [
    "<div class=\"alert alert-block alert-success\">\n",
    "<b>Успех👍 V2:</b> \n",
    "    \n",
    "Можно и так)\n",
    "</div>"
   ]
  },
  {
   "cell_type": "markdown",
   "metadata": {},
   "source": [
    "## Чек-лист готовности проекта"
   ]
  },
  {
   "cell_type": "markdown",
   "metadata": {},
   "source": [
    "Поставьте 'x' в выполненных пунктах. Далее нажмите Shift+Enter."
   ]
  },
  {
   "cell_type": "markdown",
   "metadata": {},
   "source": [
    "- [x] Jupyter Notebook открыт\n",
    "- [x] Весь код исполняется без ошибок\n",
    "- [x] Ячейки с кодом расположены в порядке исполнения\n",
    "- [x] Выполнено задание 1: данные загружены и изучены\n",
    "- [x] Выполнено задание 2: данные разбиты на три выборки\n",
    "- [x] Выполнено задание 3: проведено исследование моделей\n",
    "    - [x] Рассмотрено больше одной модели\n",
    "    - [x] Рассмотрено хотя бы 3 значения гипепараметров для какой-нибудь модели\n",
    "    - [x] Написаны выводы по результатам исследования\n",
    "- [x] Выполнено задание 3: Проведено тестирование\n",
    "- [x] Удалось достичь accuracy не меньше 0.75\n"
   ]
  },
  {
   "cell_type": "markdown",
   "metadata": {},
   "source": [
    "<div style=\"border:solid Chocolate 2px; padding: 40px\">\n",
    "    \n",
    "<h2><b>Общий вывод по проекту</b></h2>\n",
    "    \n",
    "Ты очень постарался, спасибо тебе за такую работу!)\n",
    "\n",
    "В ходе проекта были выполнены все этапы проекта, главная цель достигнута. Конечно присутствует ряд моментов, которые необходимо рассмотреть, но ничего страшного, для это я здесь). Давай пройдемся по всем этапам твоего проекта чтобы понять, как ты справился:\n",
    "    \n",
    "<b>`Загрузка данных`</b>. С этим этапом никаких вопросов нет, здесь все сделано правильно: библиотеки загружены в отдельной ячейке над всем проектом, создан датасет, был выполнен базовый просмотр данных.\n",
    "    \n",
    "<b>`Исследуйте модели`</b>. На данном этапе ты реализовал три алгоритма МО:\n",
    "    \n",
    "- Дерево - самый базовый алгоритм, но иногда дающий приятные результаты. В нем ты попробовал гиперпараметры такие как: глубина. Довольно хороший гиперпараметр, ведь так мы проверяем большее количество факторов при определении ответа для дерева. Но можно проверить еще атрибут разбиения, попробуй это сделать)\n",
    "    \n",
    "- Случайный лес - самый популярный алгоритм за счет своей точности, ведь решение принимает несколько деревьев. Ты проверил гиперпараметр количество деревьев и глубина с дерева. Да, количество деревьев хорошо улучшает точность прогноза, но и повышает время обучения и принятия решения. В твоем проекте стоит попробовать большее количество деревьев, ведь от 10 до 100 это ниже дефолтного состояния леса (а он равняется 100). Попробуй другие значения. Также можешь взять дополнительные гиперпараметры, например атрибут разбиения\n",
    "    \n",
    "- Логистическая регрессия - самый математичный алгоритм, который хорошо показывает обучение и предсказание моделей МО со стороны математики. Ты тут проверил гиперпараметр алгоритм оптимизации, неплохо. Но чаще проверяют именно силу регуляризации. Посмотри что это такое (долгая тема, предупреждаю сразу) и реализуй ее в своем проекте, будет интересно)\n",
    "    \n",
    "<b>`Проверка моделей`</b>. Тут ты проверил лучшую модель на тестовых значениях, и узнал, что задача решена - результат выше требуемого. Также твоя проверка на адекватность меня довольно сильно порадовала, молодец). Однако если хочешь реализовать проверку с помощью алгоритма, то изучи материал касательно dummy models)\n",
    "    \n",
    "Вот так вот. Работа хорошая, у тебя все ок, но если хочешь попробовать переработать проект по моим советам, то направляю проект. Если нет возможности доработать — присылай в текущем виде и я его приму."
   ]
  },
  {
   "cell_type": "markdown",
   "metadata": {},
   "source": [
    "<div style=\"border:solid Chocolate 2px; padding: 40px\">\n",
    "    \n",
    "<h2><b>Общий вывод по проекту V2</b></h2>\n",
    "    \n",
    "Ты прислушался ко всем моим рекомендациям - снимаю шляпу, ты молодец). проект готов к приему, но я отправляю тебе как ответы на твои вопросы. Удачи в следующих проектах!"
   ]
  },
  {
   "cell_type": "markdown",
   "metadata": {},
   "source": [
    "<div style=\"border:solid Chocolate 2px; padding: 40px\">\n",
    "    \n",
    "<h2><b>Общий вывод по проекту V3</b></h2>\n",
    "    \n",
    "Все ок, принимаю проект!"
   ]
  },
  {
   "cell_type": "code",
   "execution_count": null,
   "metadata": {},
   "outputs": [],
   "source": []
  }
 ],
 "metadata": {
  "ExecuteTimeLog": [
   {
    "duration": 372,
    "start_time": "2022-11-20T03:52:32.996Z"
   },
   {
    "duration": 119,
    "start_time": "2022-11-20T03:53:17.986Z"
   },
   {
    "duration": 19,
    "start_time": "2022-11-20T03:55:11.734Z"
   },
   {
    "duration": 11,
    "start_time": "2022-11-20T03:55:51.234Z"
   },
   {
    "duration": 23,
    "start_time": "2022-11-20T03:59:15.227Z"
   },
   {
    "duration": 733,
    "start_time": "2022-11-20T04:05:03.500Z"
   },
   {
    "duration": 95,
    "start_time": "2022-11-20T04:10:03.167Z"
   },
   {
    "duration": 6,
    "start_time": "2022-11-20T04:10:37.578Z"
   },
   {
    "duration": 8,
    "start_time": "2022-11-20T04:10:44.800Z"
   },
   {
    "duration": 3,
    "start_time": "2022-11-20T04:10:51.637Z"
   },
   {
    "duration": 3,
    "start_time": "2022-11-20T04:12:41.762Z"
   },
   {
    "duration": 12,
    "start_time": "2022-11-20T04:13:20.289Z"
   },
   {
    "duration": 6,
    "start_time": "2022-11-20T04:14:05.117Z"
   },
   {
    "duration": 10,
    "start_time": "2022-11-20T04:14:59.122Z"
   },
   {
    "duration": 15,
    "start_time": "2022-11-20T04:15:09.253Z"
   },
   {
    "duration": 1101,
    "start_time": "2022-11-20T04:15:55.360Z"
   },
   {
    "duration": 30,
    "start_time": "2022-11-20T04:15:56.463Z"
   },
   {
    "duration": 21,
    "start_time": "2022-11-20T04:15:56.496Z"
   },
   {
    "duration": 13,
    "start_time": "2022-11-20T04:15:56.520Z"
   },
   {
    "duration": 27,
    "start_time": "2022-11-20T04:15:56.534Z"
   },
   {
    "duration": 4,
    "start_time": "2022-11-20T04:15:56.564Z"
   },
   {
    "duration": 131,
    "start_time": "2022-11-20T04:15:56.570Z"
   },
   {
    "duration": 6,
    "start_time": "2022-11-20T04:18:29.037Z"
   },
   {
    "duration": 6,
    "start_time": "2022-11-20T04:25:01.724Z"
   },
   {
    "duration": 28,
    "start_time": "2022-11-20T04:29:48.818Z"
   },
   {
    "duration": 4,
    "start_time": "2022-11-20T04:29:56.896Z"
   },
   {
    "duration": 26,
    "start_time": "2022-11-20T04:30:00.849Z"
   },
   {
    "duration": 4,
    "start_time": "2022-11-20T04:30:02.325Z"
   },
   {
    "duration": 1100,
    "start_time": "2022-11-20T04:30:17.502Z"
   },
   {
    "duration": 31,
    "start_time": "2022-11-20T04:30:18.604Z"
   },
   {
    "duration": 19,
    "start_time": "2022-11-20T04:30:18.636Z"
   },
   {
    "duration": 11,
    "start_time": "2022-11-20T04:30:18.657Z"
   },
   {
    "duration": 34,
    "start_time": "2022-11-20T04:30:18.670Z"
   },
   {
    "duration": 5,
    "start_time": "2022-11-20T04:30:18.706Z"
   },
   {
    "duration": 22,
    "start_time": "2022-11-20T04:30:18.713Z"
   },
   {
    "duration": 29,
    "start_time": "2022-11-20T04:30:18.737Z"
   },
   {
    "duration": 4,
    "start_time": "2022-11-20T04:30:18.767Z"
   },
   {
    "duration": 28,
    "start_time": "2022-11-20T04:30:33.369Z"
   },
   {
    "duration": 4,
    "start_time": "2022-11-20T04:30:34.593Z"
   },
   {
    "duration": 10,
    "start_time": "2022-11-20T04:31:20.307Z"
   },
   {
    "duration": 5,
    "start_time": "2022-11-20T04:31:26.016Z"
   },
   {
    "duration": 29,
    "start_time": "2022-11-20T04:31:28.041Z"
   },
   {
    "duration": 4,
    "start_time": "2022-11-20T04:31:29.751Z"
   },
   {
    "duration": 31,
    "start_time": "2022-11-20T04:31:35.632Z"
   },
   {
    "duration": 28,
    "start_time": "2022-11-20T04:32:23.858Z"
   },
   {
    "duration": 1139,
    "start_time": "2022-11-20T04:32:40.440Z"
   },
   {
    "duration": 31,
    "start_time": "2022-11-20T04:32:41.581Z"
   },
   {
    "duration": 20,
    "start_time": "2022-11-20T04:32:41.613Z"
   },
   {
    "duration": 12,
    "start_time": "2022-11-20T04:32:41.635Z"
   },
   {
    "duration": 33,
    "start_time": "2022-11-20T04:32:41.649Z"
   },
   {
    "duration": 6,
    "start_time": "2022-11-20T04:32:41.684Z"
   },
   {
    "duration": 10,
    "start_time": "2022-11-20T04:32:41.692Z"
   },
   {
    "duration": 45,
    "start_time": "2022-11-20T04:32:41.704Z"
   },
   {
    "duration": 4,
    "start_time": "2022-11-20T04:34:30.900Z"
   },
   {
    "duration": 136,
    "start_time": "2022-11-20T04:34:42.413Z"
   },
   {
    "duration": 38,
    "start_time": "2022-11-20T04:36:06.086Z"
   },
   {
    "duration": 43,
    "start_time": "2022-11-20T04:36:18.639Z"
   },
   {
    "duration": 21,
    "start_time": "2022-11-20T04:40:02.457Z"
   },
   {
    "duration": 18,
    "start_time": "2022-11-20T04:41:32.597Z"
   },
   {
    "duration": 16,
    "start_time": "2022-11-20T04:41:47.705Z"
   },
   {
    "duration": 33,
    "start_time": "2022-11-20T04:43:21.922Z"
   },
   {
    "duration": 15,
    "start_time": "2022-11-20T04:43:45.249Z"
   },
   {
    "duration": 4,
    "start_time": "2022-11-20T04:47:14.452Z"
   },
   {
    "duration": 13,
    "start_time": "2022-11-20T04:47:18.069Z"
   },
   {
    "duration": 16,
    "start_time": "2022-11-20T04:47:36.635Z"
   },
   {
    "duration": 22,
    "start_time": "2022-11-20T04:51:25.254Z"
   },
   {
    "duration": 22,
    "start_time": "2022-11-20T04:51:53.885Z"
   },
   {
    "duration": 1052,
    "start_time": "2022-11-20T04:52:10.099Z"
   },
   {
    "duration": 30,
    "start_time": "2022-11-20T04:52:11.153Z"
   },
   {
    "duration": 20,
    "start_time": "2022-11-20T04:52:11.185Z"
   },
   {
    "duration": 31,
    "start_time": "2022-11-20T04:52:11.206Z"
   },
   {
    "duration": 42,
    "start_time": "2022-11-20T04:52:11.239Z"
   },
   {
    "duration": 26,
    "start_time": "2022-11-20T04:52:11.283Z"
   },
   {
    "duration": 33,
    "start_time": "2022-11-20T04:52:11.311Z"
   },
   {
    "duration": 141,
    "start_time": "2022-11-20T04:52:11.346Z"
   },
   {
    "duration": 11,
    "start_time": "2022-11-20T04:52:57.416Z"
   },
   {
    "duration": 10,
    "start_time": "2022-11-20T04:54:06.496Z"
   },
   {
    "duration": 3,
    "start_time": "2022-11-20T04:54:11.181Z"
   },
   {
    "duration": 106,
    "start_time": "2022-11-20T04:54:14.414Z"
   },
   {
    "duration": 111,
    "start_time": "2022-11-20T04:54:22.170Z"
   },
   {
    "duration": 74,
    "start_time": "2022-11-20T04:55:14.914Z"
   },
   {
    "duration": 79,
    "start_time": "2022-11-20T04:55:30.036Z"
   },
   {
    "duration": 64,
    "start_time": "2022-11-20T04:55:55.480Z"
   },
   {
    "duration": 11,
    "start_time": "2022-11-20T04:59:30.260Z"
   },
   {
    "duration": 31,
    "start_time": "2022-11-20T04:59:53.517Z"
   },
   {
    "duration": 29,
    "start_time": "2022-11-20T05:00:17.286Z"
   },
   {
    "duration": 41,
    "start_time": "2022-11-20T05:00:43.980Z"
   },
   {
    "duration": 30,
    "start_time": "2022-11-20T05:01:16.485Z"
   },
   {
    "duration": 77,
    "start_time": "2022-11-20T05:01:31.833Z"
   },
   {
    "duration": 86,
    "start_time": "2022-11-20T05:01:41.338Z"
   },
   {
    "duration": 1168,
    "start_time": "2022-11-20T05:01:49.097Z"
   },
   {
    "duration": 31,
    "start_time": "2022-11-20T05:01:50.267Z"
   },
   {
    "duration": 21,
    "start_time": "2022-11-20T05:01:50.300Z"
   },
   {
    "duration": 25,
    "start_time": "2022-11-20T05:01:50.323Z"
   },
   {
    "duration": 49,
    "start_time": "2022-11-20T05:01:50.351Z"
   },
   {
    "duration": 15,
    "start_time": "2022-11-20T05:01:50.401Z"
   },
   {
    "duration": 41,
    "start_time": "2022-11-20T05:01:50.417Z"
   },
   {
    "duration": 123,
    "start_time": "2022-11-20T05:01:50.460Z"
   },
   {
    "duration": 93,
    "start_time": "2022-11-20T05:05:54.008Z"
   },
   {
    "duration": 77,
    "start_time": "2022-11-20T05:06:01.859Z"
   },
   {
    "duration": 68,
    "start_time": "2022-11-20T05:06:04.247Z"
   },
   {
    "duration": 1247,
    "start_time": "2022-11-20T05:06:12.313Z"
   },
   {
    "duration": 32,
    "start_time": "2022-11-20T05:06:13.563Z"
   },
   {
    "duration": 24,
    "start_time": "2022-11-20T05:06:13.597Z"
   },
   {
    "duration": 15,
    "start_time": "2022-11-20T05:06:13.624Z"
   },
   {
    "duration": 44,
    "start_time": "2022-11-20T05:06:13.642Z"
   },
   {
    "duration": 7,
    "start_time": "2022-11-20T05:06:13.688Z"
   },
   {
    "duration": 13,
    "start_time": "2022-11-20T05:06:13.697Z"
   },
   {
    "duration": 154,
    "start_time": "2022-11-20T05:06:13.712Z"
   },
   {
    "duration": 0,
    "start_time": "2022-11-20T05:06:13.867Z"
   },
   {
    "duration": 74,
    "start_time": "2022-11-20T05:06:24.697Z"
   },
   {
    "duration": 1039,
    "start_time": "2022-11-20T05:06:33.650Z"
   },
   {
    "duration": 30,
    "start_time": "2022-11-20T05:06:34.691Z"
   },
   {
    "duration": 19,
    "start_time": "2022-11-20T05:06:34.722Z"
   },
   {
    "duration": 18,
    "start_time": "2022-11-20T05:06:34.744Z"
   },
   {
    "duration": 30,
    "start_time": "2022-11-20T05:06:34.764Z"
   },
   {
    "duration": 6,
    "start_time": "2022-11-20T05:06:34.796Z"
   },
   {
    "duration": 12,
    "start_time": "2022-11-20T05:06:34.804Z"
   },
   {
    "duration": 92,
    "start_time": "2022-11-20T05:06:34.818Z"
   },
   {
    "duration": 117,
    "start_time": "2022-11-20T05:06:34.912Z"
   },
   {
    "duration": 70,
    "start_time": "2022-11-20T05:06:56.162Z"
   },
   {
    "duration": 15,
    "start_time": "2022-11-20T05:09:04.037Z"
   },
   {
    "duration": 3,
    "start_time": "2022-11-20T05:09:13.342Z"
   },
   {
    "duration": 3317,
    "start_time": "2022-11-20T05:09:18.515Z"
   },
   {
    "duration": 3692,
    "start_time": "2022-11-20T05:10:51.326Z"
   },
   {
    "duration": 3543,
    "start_time": "2022-11-20T05:11:09.959Z"
   },
   {
    "duration": 4,
    "start_time": "2022-11-20T05:12:41.214Z"
   },
   {
    "duration": 3,
    "start_time": "2022-11-20T05:12:44.300Z"
   },
   {
    "duration": 3,
    "start_time": "2022-11-20T05:12:46.388Z"
   },
   {
    "duration": 49,
    "start_time": "2022-11-20T05:13:04.611Z"
   },
   {
    "duration": 55,
    "start_time": "2022-11-20T05:13:17.784Z"
   },
   {
    "duration": 3280,
    "start_time": "2022-11-20T05:14:27.939Z"
   },
   {
    "duration": 3300,
    "start_time": "2022-11-20T05:14:35.380Z"
   },
   {
    "duration": 90,
    "start_time": "2022-11-20T05:16:22.404Z"
   },
   {
    "duration": 3149,
    "start_time": "2022-11-20T05:16:43.658Z"
   },
   {
    "duration": 68,
    "start_time": "2022-11-20T05:17:50.298Z"
   },
   {
    "duration": 3420,
    "start_time": "2022-11-20T05:17:51.747Z"
   },
   {
    "duration": 30,
    "start_time": "2022-11-20T05:20:10.156Z"
   },
   {
    "duration": 25,
    "start_time": "2022-11-20T05:20:15.664Z"
   },
   {
    "duration": 25,
    "start_time": "2022-11-20T05:20:20.146Z"
   },
   {
    "duration": 26,
    "start_time": "2022-11-20T05:21:58.325Z"
   },
   {
    "duration": 29,
    "start_time": "2022-11-20T05:22:05.996Z"
   },
   {
    "duration": 14,
    "start_time": "2022-11-20T05:30:51.107Z"
   },
   {
    "duration": 9,
    "start_time": "2022-11-20T05:30:56.354Z"
   },
   {
    "duration": 1105,
    "start_time": "2022-11-20T05:31:33.025Z"
   },
   {
    "duration": 35,
    "start_time": "2022-11-20T05:31:34.132Z"
   },
   {
    "duration": 21,
    "start_time": "2022-11-20T05:31:34.168Z"
   },
   {
    "duration": 11,
    "start_time": "2022-11-20T05:31:34.191Z"
   },
   {
    "duration": 33,
    "start_time": "2022-11-20T05:31:34.204Z"
   },
   {
    "duration": 7,
    "start_time": "2022-11-20T05:31:34.239Z"
   },
   {
    "duration": 9,
    "start_time": "2022-11-20T05:31:34.247Z"
   },
   {
    "duration": 78,
    "start_time": "2022-11-20T05:31:34.258Z"
   },
   {
    "duration": 3332,
    "start_time": "2022-11-20T05:31:34.338Z"
   },
   {
    "duration": 22,
    "start_time": "2022-11-20T05:31:37.671Z"
   },
   {
    "duration": 20,
    "start_time": "2022-11-20T05:31:37.695Z"
   },
   {
    "duration": 99,
    "start_time": "2022-11-20T05:37:13.758Z"
   },
   {
    "duration": 1063,
    "start_time": "2022-11-20T05:37:43.145Z"
   },
   {
    "duration": 31,
    "start_time": "2022-11-20T05:37:44.210Z"
   },
   {
    "duration": 23,
    "start_time": "2022-11-20T05:37:44.242Z"
   },
   {
    "duration": 11,
    "start_time": "2022-11-20T05:37:44.266Z"
   },
   {
    "duration": 33,
    "start_time": "2022-11-20T05:37:44.279Z"
   },
   {
    "duration": 6,
    "start_time": "2022-11-20T05:37:44.314Z"
   },
   {
    "duration": 18,
    "start_time": "2022-11-20T05:37:44.322Z"
   },
   {
    "duration": 70,
    "start_time": "2022-11-20T05:37:44.342Z"
   },
   {
    "duration": 3426,
    "start_time": "2022-11-20T05:37:44.414Z"
   },
   {
    "duration": 25,
    "start_time": "2022-11-20T05:37:47.841Z"
   },
   {
    "duration": 8,
    "start_time": "2022-11-20T05:37:47.867Z"
   },
   {
    "duration": 128,
    "start_time": "2022-11-20T05:37:47.876Z"
   },
   {
    "duration": 14,
    "start_time": "2022-11-20T05:40:00.357Z"
   },
   {
    "duration": 12,
    "start_time": "2022-11-20T05:45:48.206Z"
   },
   {
    "duration": 12,
    "start_time": "2022-11-20T05:46:41.010Z"
   },
   {
    "duration": 5,
    "start_time": "2022-11-20T05:46:53.946Z"
   },
   {
    "duration": 8,
    "start_time": "2022-11-20T05:47:32.397Z"
   },
   {
    "duration": 4,
    "start_time": "2022-11-20T05:47:34.664Z"
   },
   {
    "duration": 5,
    "start_time": "2022-11-20T05:47:35.919Z"
   },
   {
    "duration": 5,
    "start_time": "2022-11-20T05:47:37.578Z"
   },
   {
    "duration": 1049,
    "start_time": "2022-11-20T05:53:11.489Z"
   },
   {
    "duration": 34,
    "start_time": "2022-11-20T05:53:12.541Z"
   },
   {
    "duration": 25,
    "start_time": "2022-11-20T05:53:12.577Z"
   },
   {
    "duration": 14,
    "start_time": "2022-11-20T05:53:12.604Z"
   },
   {
    "duration": 29,
    "start_time": "2022-11-20T05:53:12.620Z"
   },
   {
    "duration": 7,
    "start_time": "2022-11-20T05:53:12.651Z"
   },
   {
    "duration": 6,
    "start_time": "2022-11-20T05:53:12.660Z"
   },
   {
    "duration": 81,
    "start_time": "2022-11-20T05:53:12.667Z"
   },
   {
    "duration": 3374,
    "start_time": "2022-11-20T05:53:12.750Z"
   },
   {
    "duration": 31,
    "start_time": "2022-11-20T05:53:16.127Z"
   },
   {
    "duration": 11,
    "start_time": "2022-11-20T05:53:16.160Z"
   },
   {
    "duration": 9,
    "start_time": "2022-11-20T05:53:16.173Z"
   },
   {
    "duration": 50,
    "start_time": "2022-11-21T05:44:44.214Z"
   },
   {
    "duration": 7,
    "start_time": "2022-11-21T05:44:52.631Z"
   },
   {
    "duration": 9,
    "start_time": "2022-11-21T05:44:56.405Z"
   },
   {
    "duration": 1104,
    "start_time": "2022-11-21T05:45:08.555Z"
   },
   {
    "duration": 121,
    "start_time": "2022-11-21T05:45:09.661Z"
   },
   {
    "duration": 26,
    "start_time": "2022-11-21T05:45:09.783Z"
   },
   {
    "duration": 13,
    "start_time": "2022-11-21T05:45:09.812Z"
   },
   {
    "duration": 24,
    "start_time": "2022-11-21T05:45:09.827Z"
   },
   {
    "duration": 4,
    "start_time": "2022-11-21T05:45:09.853Z"
   },
   {
    "duration": 7,
    "start_time": "2022-11-21T05:45:09.859Z"
   },
   {
    "duration": 5,
    "start_time": "2022-11-21T05:45:09.868Z"
   },
   {
    "duration": 83,
    "start_time": "2022-11-21T05:45:09.875Z"
   },
   {
    "duration": 3522,
    "start_time": "2022-11-21T05:45:09.960Z"
   },
   {
    "duration": 26,
    "start_time": "2022-11-21T05:45:13.484Z"
   },
   {
    "duration": 9,
    "start_time": "2022-11-21T05:45:13.511Z"
   },
   {
    "duration": 7,
    "start_time": "2022-11-21T05:45:13.522Z"
   },
   {
    "duration": 8,
    "start_time": "2022-11-21T05:45:36.206Z"
   },
   {
    "duration": 71,
    "start_time": "2022-11-21T05:49:37.757Z"
   },
   {
    "duration": 173,
    "start_time": "2022-11-21T05:52:46.051Z"
   },
   {
    "duration": 143,
    "start_time": "2022-11-21T05:53:08.900Z"
   },
   {
    "duration": 81,
    "start_time": "2022-11-21T05:53:18.412Z"
   },
   {
    "duration": 141,
    "start_time": "2022-11-21T05:54:25.143Z"
   },
   {
    "duration": 184,
    "start_time": "2022-11-21T05:55:11.937Z"
   },
   {
    "duration": 12329,
    "start_time": "2022-11-21T05:58:48.963Z"
   },
   {
    "duration": 32917,
    "start_time": "2022-11-21T05:59:22.272Z"
   },
   {
    "duration": 32495,
    "start_time": "2022-11-21T06:07:29.678Z"
   },
   {
    "duration": 69890,
    "start_time": "2022-11-21T06:09:40.116Z"
   },
   {
    "duration": 37,
    "start_time": "2022-11-21T06:23:32.221Z"
   },
   {
    "duration": 33,
    "start_time": "2022-11-21T06:23:42.686Z"
   },
   {
    "duration": 13,
    "start_time": "2022-11-21T06:23:47.646Z"
   },
   {
    "duration": 36,
    "start_time": "2022-11-21T06:23:57.109Z"
   },
   {
    "duration": 34,
    "start_time": "2022-11-21T06:24:37.670Z"
   },
   {
    "duration": 33,
    "start_time": "2022-11-21T06:24:43.381Z"
   },
   {
    "duration": 34,
    "start_time": "2022-11-21T06:31:56.830Z"
   },
   {
    "duration": 36,
    "start_time": "2022-11-21T06:32:00.668Z"
   },
   {
    "duration": 43,
    "start_time": "2022-11-21T06:32:23.644Z"
   },
   {
    "duration": 34,
    "start_time": "2022-11-21T06:32:59.430Z"
   },
   {
    "duration": 35,
    "start_time": "2022-11-21T06:33:09.997Z"
   },
   {
    "duration": 15,
    "start_time": "2022-11-21T06:33:12.599Z"
   },
   {
    "duration": 35,
    "start_time": "2022-11-21T06:33:19.210Z"
   },
   {
    "duration": 34,
    "start_time": "2022-11-21T06:34:29.012Z"
   },
   {
    "duration": 32,
    "start_time": "2022-11-21T06:34:31.737Z"
   },
   {
    "duration": 39,
    "start_time": "2022-11-21T06:34:34.474Z"
   },
   {
    "duration": 49,
    "start_time": "2022-11-21T06:34:39.399Z"
   },
   {
    "duration": 44,
    "start_time": "2022-11-21T06:34:44.319Z"
   },
   {
    "duration": 46,
    "start_time": "2022-11-21T06:34:47.197Z"
   },
   {
    "duration": 36,
    "start_time": "2022-11-21T06:34:49.999Z"
   },
   {
    "duration": 33,
    "start_time": "2022-11-21T06:34:52.403Z"
   },
   {
    "duration": 33,
    "start_time": "2022-11-21T06:34:55.655Z"
   },
   {
    "duration": 50,
    "start_time": "2022-11-21T06:36:09.931Z"
   },
   {
    "duration": 152,
    "start_time": "2022-11-21T06:36:13.117Z"
   },
   {
    "duration": 308,
    "start_time": "2022-11-21T06:36:21.891Z"
   },
   {
    "duration": 6,
    "start_time": "2022-11-21T06:36:25.860Z"
   },
   {
    "duration": 332,
    "start_time": "2022-11-21T06:36:28.841Z"
   },
   {
    "duration": 372,
    "start_time": "2022-11-21T06:37:23.302Z"
   },
   {
    "duration": 351,
    "start_time": "2022-11-21T06:38:16.014Z"
   },
   {
    "duration": 347,
    "start_time": "2022-11-21T06:38:19.334Z"
   },
   {
    "duration": 356,
    "start_time": "2022-11-21T06:39:30.205Z"
   },
   {
    "duration": 1102,
    "start_time": "2022-11-21T07:15:27.683Z"
   },
   {
    "duration": 32,
    "start_time": "2022-11-21T07:15:28.787Z"
   },
   {
    "duration": 21,
    "start_time": "2022-11-21T07:15:28.820Z"
   },
   {
    "duration": 11,
    "start_time": "2022-11-21T07:15:28.843Z"
   },
   {
    "duration": 40,
    "start_time": "2022-11-21T07:15:28.856Z"
   },
   {
    "duration": 4,
    "start_time": "2022-11-21T07:15:28.898Z"
   },
   {
    "duration": 8,
    "start_time": "2022-11-21T07:15:28.904Z"
   },
   {
    "duration": 7,
    "start_time": "2022-11-21T07:15:28.914Z"
   },
   {
    "duration": 163,
    "start_time": "2022-11-21T07:15:28.922Z"
   },
   {
    "duration": 1174,
    "start_time": "2022-11-21T07:20:05.672Z"
   },
   {
    "duration": 47,
    "start_time": "2022-11-21T07:20:06.848Z"
   },
   {
    "duration": 21,
    "start_time": "2022-11-21T07:20:06.896Z"
   },
   {
    "duration": 35,
    "start_time": "2022-11-21T07:20:06.918Z"
   },
   {
    "duration": 58,
    "start_time": "2022-11-21T07:20:06.955Z"
   },
   {
    "duration": 16,
    "start_time": "2022-11-21T07:20:07.015Z"
   },
   {
    "duration": 46,
    "start_time": "2022-11-21T07:20:07.032Z"
   },
   {
    "duration": 35,
    "start_time": "2022-11-21T07:20:07.079Z"
   },
   {
    "duration": 194,
    "start_time": "2022-11-21T07:20:07.115Z"
   },
   {
    "duration": 74840,
    "start_time": "2022-11-21T07:20:07.311Z"
   },
   {
    "duration": 370,
    "start_time": "2022-11-21T07:21:22.154Z"
   },
   {
    "duration": 14,
    "start_time": "2022-11-21T07:21:22.526Z"
   },
   {
    "duration": 19,
    "start_time": "2022-11-21T07:21:22.542Z"
   },
   {
    "duration": 132,
    "start_time": "2022-11-21T07:21:22.564Z"
   },
   {
    "duration": 18,
    "start_time": "2022-11-21T07:22:40.269Z"
   },
   {
    "duration": 10,
    "start_time": "2022-11-21T07:22:45.670Z"
   },
   {
    "duration": 9,
    "start_time": "2022-11-21T07:23:13.066Z"
   },
   {
    "duration": 8,
    "start_time": "2022-11-21T07:26:49.200Z"
   },
   {
    "duration": 9,
    "start_time": "2022-11-21T07:26:50.621Z"
   },
   {
    "duration": 430,
    "start_time": "2022-11-21T07:27:08.782Z"
   },
   {
    "duration": 220,
    "start_time": "2022-11-21T07:27:14.297Z"
   },
   {
    "duration": 3,
    "start_time": "2022-11-21T07:27:37.033Z"
   },
   {
    "duration": 222,
    "start_time": "2022-11-21T07:27:41.234Z"
   },
   {
    "duration": 181,
    "start_time": "2022-11-21T07:27:48.259Z"
   },
   {
    "duration": 148,
    "start_time": "2022-11-21T07:27:52.609Z"
   },
   {
    "duration": 4,
    "start_time": "2022-11-21T07:28:47.342Z"
   },
   {
    "duration": 23,
    "start_time": "2022-11-21T07:28:51.363Z"
   },
   {
    "duration": 11,
    "start_time": "2022-11-21T07:31:48.905Z"
   },
   {
    "duration": 11,
    "start_time": "2022-11-21T07:32:22.248Z"
   },
   {
    "duration": 1874,
    "start_time": "2022-11-21T19:18:40.545Z"
   },
   {
    "duration": 114,
    "start_time": "2022-11-21T19:18:42.421Z"
   },
   {
    "duration": 22,
    "start_time": "2022-11-21T19:18:42.537Z"
   },
   {
    "duration": 18,
    "start_time": "2022-11-21T19:18:42.561Z"
   },
   {
    "duration": 57,
    "start_time": "2022-11-21T19:18:42.581Z"
   },
   {
    "duration": 5,
    "start_time": "2022-11-21T19:18:42.640Z"
   },
   {
    "duration": 25,
    "start_time": "2022-11-21T19:18:42.647Z"
   },
   {
    "duration": 94,
    "start_time": "2022-11-21T19:18:42.673Z"
   },
   {
    "duration": 167,
    "start_time": "2022-11-21T19:18:44.293Z"
   },
   {
    "duration": 20,
    "start_time": "2022-11-21T19:20:17.775Z"
   },
   {
    "duration": 4,
    "start_time": "2022-11-21T19:20:23.568Z"
   },
   {
    "duration": 74,
    "start_time": "2022-12-07T10:55:43.283Z"
   },
   {
    "duration": 10,
    "start_time": "2022-12-07T10:55:50.569Z"
   },
   {
    "duration": 1812,
    "start_time": "2022-12-07T10:56:00.934Z"
   },
   {
    "duration": 81,
    "start_time": "2022-12-07T10:56:03.641Z"
   },
   {
    "duration": 9,
    "start_time": "2022-12-07T10:56:10.656Z"
   },
   {
    "duration": 9,
    "start_time": "2022-12-07T10:56:12.141Z"
   },
   {
    "duration": 15,
    "start_time": "2022-12-07T10:56:13.412Z"
   }
  ],
  "kernelspec": {
   "display_name": "Python 3 (ipykernel)",
   "language": "python",
   "name": "python3"
  },
  "language_info": {
   "codemirror_mode": {
    "name": "ipython",
    "version": 3
   },
   "file_extension": ".py",
   "mimetype": "text/x-python",
   "name": "python",
   "nbconvert_exporter": "python",
   "pygments_lexer": "ipython3",
   "version": "3.9.5"
  },
  "toc": {
   "base_numbering": 1,
   "nav_menu": {},
   "number_sections": true,
   "sideBar": true,
   "skip_h1_title": true,
   "title_cell": "Table of Contents",
   "title_sidebar": "Contents",
   "toc_cell": false,
   "toc_position": {},
   "toc_section_display": true,
   "toc_window_display": false
  }
 },
 "nbformat": 4,
 "nbformat_minor": 2
}
